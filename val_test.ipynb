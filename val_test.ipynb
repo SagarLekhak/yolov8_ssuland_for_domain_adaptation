{
 "cells": [
  {
   "cell_type": "code",
   "execution_count": 2,
   "metadata": {},
   "outputs": [
    {
     "name": "stdout",
     "output_type": "stream",
     "text": [
      "Om Namaha Shivaya \n",
      "-----\n",
      "Om Nagarjunaaya Namaha\n",
      "-----------------------------------\n"
     ]
    }
   ],
   "source": [
    "print(\"Om Namaha Shivaya \")\n",
    "print(\"-----\")\n",
    "print(\"Om Nagarjunaaya Namaha\")\n",
    "print(\"-----------------------------------\")"
   ]
  },
  {
   "cell_type": "code",
   "execution_count": 3,
   "metadata": {},
   "outputs": [
    {
     "name": "stdout",
     "output_type": "stream",
     "text": [
      "---\n",
      "-------\n"
     ]
    }
   ],
   "source": [
    "print(\"---\")\n",
    "print(\"-------\")"
   ]
  },
  {
   "cell_type": "code",
   "execution_count": 4,
   "metadata": {},
   "outputs": [
    {
     "name": "stdout",
     "output_type": "stream",
     "text": [
      "--\n"
     ]
    }
   ],
   "source": [
    "print(\"--\")"
   ]
  },
  {
   "cell_type": "code",
   "execution_count": 5,
   "metadata": {},
   "outputs": [
    {
     "name": "stdout",
     "output_type": "stream",
     "text": [
      "OM\n"
     ]
    }
   ],
   "source": [
    "print(\"OM\")"
   ]
  },
  {
   "cell_type": "code",
   "execution_count": 7,
   "metadata": {},
   "outputs": [],
   "source": [
    "import ultralytics\n",
    "from ultralytics import YOLO"
   ]
  },
  {
   "cell_type": "code",
   "execution_count": 8,
   "metadata": {},
   "outputs": [
    {
     "name": "stderr",
     "output_type": "stream",
     "text": [
      "/home/sl3088/miniconda3/envs/yolov8_suland/lib/python3.11/site-packages/ultralytics/nn/tasks.py:732: FutureWarning: You are using `torch.load` with `weights_only=False` (the current default value), which uses the default pickle module implicitly. It is possible to construct malicious pickle data which will execute arbitrary code during unpickling (See https://github.com/pytorch/pytorch/blob/main/SECURITY.md#untrusted-models for more details). In a future release, the default value for `weights_only` will be flipped to `True`. This limits the functions that could be executed during unpickling. Arbitrary objects will no longer be allowed to be loaded via this mode unless they are explicitly allowlisted by the user via `torch.serialization.add_safe_globals`. We recommend you start setting `weights_only=True` for any use case where you don't have full control of the loaded file. Please open an issue on GitHub for any issues related to this experimental feature.\n",
      "  ckpt = torch.load(file, map_location=\"cpu\")\n"
     ]
    }
   ],
   "source": [
    "model = YOLO(\"/home/sl3088/yolov8_suland/runs/detect/train33/weights/best.pt\")"
   ]
  },
  {
   "cell_type": "code",
   "execution_count": null,
   "metadata": {},
   "outputs": [],
   "source": [
    "# Evaluate the model in validation set. \n",
    "# metrics = model.val(data = \"dataset/ITA.yolo/ITA.yaml\", split = \"test\")   # "
   ]
  },
  {
   "cell_type": "code",
   "execution_count": null,
   "metadata": {},
   "outputs": [
    {
     "name": "stdout",
     "output_type": "stream",
     "text": [
      "\n",
      "image 1/481 /home/sl3088/yolov8_suland/dataset/ITA.yolo/test/images/ITA-v2/ITA-v2-0.jpg: 640x480 1 butterfly, 1 starfish, 7.9ms\n",
      "image 2/481 /home/sl3088/yolov8_suland/dataset/ITA.yolo/test/images/ITA-v2/ITA-v2-1.jpg: 640x480 1 butterfly, 1 starfish, 7.1ms\n",
      "image 3/481 /home/sl3088/yolov8_suland/dataset/ITA.yolo/test/images/ITA-v2/ITA-v2-10.jpg: 640x480 1 butterfly, 1 starfish, 7.0ms\n",
      "image 4/481 /home/sl3088/yolov8_suland/dataset/ITA.yolo/test/images/ITA-v2/ITA-v2-100.jpg: 640x480 (no detections), 7.1ms\n",
      "image 5/481 /home/sl3088/yolov8_suland/dataset/ITA.yolo/test/images/ITA-v2/ITA-v2-101.jpg: 640x480 (no detections), 7.1ms\n",
      "image 6/481 /home/sl3088/yolov8_suland/dataset/ITA.yolo/test/images/ITA-v2/ITA-v2-102.jpg: 640x480 (no detections), 7.1ms\n",
      "image 7/481 /home/sl3088/yolov8_suland/dataset/ITA.yolo/test/images/ITA-v2/ITA-v2-103.jpg: 640x480 (no detections), 8.2ms\n",
      "image 8/481 /home/sl3088/yolov8_suland/dataset/ITA.yolo/test/images/ITA-v2/ITA-v2-104.jpg: 640x480 (no detections), 7.1ms\n",
      "image 9/481 /home/sl3088/yolov8_suland/dataset/ITA.yolo/test/images/ITA-v2/ITA-v2-105.jpg: 640x480 (no detections), 7.2ms\n",
      "image 10/481 /home/sl3088/yolov8_suland/dataset/ITA.yolo/test/images/ITA-v2/ITA-v2-106.jpg: 640x480 (no detections), 7.2ms\n",
      "image 11/481 /home/sl3088/yolov8_suland/dataset/ITA.yolo/test/images/ITA-v2/ITA-v2-107.jpg: 640x480 (no detections), 7.1ms\n",
      "image 12/481 /home/sl3088/yolov8_suland/dataset/ITA.yolo/test/images/ITA-v2/ITA-v2-108.jpg: 640x480 (no detections), 7.1ms\n",
      "image 13/481 /home/sl3088/yolov8_suland/dataset/ITA.yolo/test/images/ITA-v2/ITA-v2-109.jpg: 640x480 (no detections), 7.0ms\n",
      "image 14/481 /home/sl3088/yolov8_suland/dataset/ITA.yolo/test/images/ITA-v2/ITA-v2-11.jpg: 640x480 1 butterfly, 1 starfish, 7.1ms\n",
      "image 15/481 /home/sl3088/yolov8_suland/dataset/ITA.yolo/test/images/ITA-v2/ITA-v2-110.jpg: 640x480 (no detections), 7.0ms\n",
      "image 16/481 /home/sl3088/yolov8_suland/dataset/ITA.yolo/test/images/ITA-v2/ITA-v2-111.jpg: 640x480 (no detections), 7.0ms\n",
      "image 17/481 /home/sl3088/yolov8_suland/dataset/ITA.yolo/test/images/ITA-v2/ITA-v2-112.jpg: 640x480 (no detections), 7.1ms\n",
      "image 18/481 /home/sl3088/yolov8_suland/dataset/ITA.yolo/test/images/ITA-v2/ITA-v2-113.jpg: 640x480 (no detections), 7.1ms\n",
      "image 19/481 /home/sl3088/yolov8_suland/dataset/ITA.yolo/test/images/ITA-v2/ITA-v2-114.jpg: 640x480 (no detections), 7.8ms\n",
      "image 20/481 /home/sl3088/yolov8_suland/dataset/ITA.yolo/test/images/ITA-v2/ITA-v2-115.jpg: 640x480 (no detections), 7.1ms\n",
      "image 21/481 /home/sl3088/yolov8_suland/dataset/ITA.yolo/test/images/ITA-v2/ITA-v2-116.jpg: 640x480 (no detections), 7.1ms\n",
      "image 22/481 /home/sl3088/yolov8_suland/dataset/ITA.yolo/test/images/ITA-v2/ITA-v2-117.jpg: 640x480 (no detections), 7.1ms\n",
      "image 23/481 /home/sl3088/yolov8_suland/dataset/ITA.yolo/test/images/ITA-v2/ITA-v2-118.jpg: 640x480 (no detections), 7.1ms\n",
      "image 24/481 /home/sl3088/yolov8_suland/dataset/ITA.yolo/test/images/ITA-v2/ITA-v2-119.jpg: 640x480 (no detections), 7.1ms\n",
      "image 25/481 /home/sl3088/yolov8_suland/dataset/ITA.yolo/test/images/ITA-v2/ITA-v2-12.jpg: 640x480 1 butterfly, 1 starfish, 7.6ms\n",
      "image 26/481 /home/sl3088/yolov8_suland/dataset/ITA.yolo/test/images/ITA-v2/ITA-v2-120.jpg: 640x480 (no detections), 7.1ms\n",
      "image 27/481 /home/sl3088/yolov8_suland/dataset/ITA.yolo/test/images/ITA-v2/ITA-v2-121.jpg: 640x480 (no detections), 7.0ms\n",
      "image 28/481 /home/sl3088/yolov8_suland/dataset/ITA.yolo/test/images/ITA-v2/ITA-v2-122.jpg: 640x480 (no detections), 7.0ms\n",
      "image 29/481 /home/sl3088/yolov8_suland/dataset/ITA.yolo/test/images/ITA-v2/ITA-v2-123.jpg: 640x480 (no detections), 7.0ms\n",
      "image 30/481 /home/sl3088/yolov8_suland/dataset/ITA.yolo/test/images/ITA-v2/ITA-v2-124.jpg: 640x480 (no detections), 7.1ms\n",
      "image 31/481 /home/sl3088/yolov8_suland/dataset/ITA.yolo/test/images/ITA-v2/ITA-v2-125.jpg: 640x480 (no detections), 7.0ms\n",
      "image 32/481 /home/sl3088/yolov8_suland/dataset/ITA.yolo/test/images/ITA-v2/ITA-v2-126.jpg: 640x480 (no detections), 7.1ms\n",
      "image 33/481 /home/sl3088/yolov8_suland/dataset/ITA.yolo/test/images/ITA-v2/ITA-v2-127.jpg: 640x480 (no detections), 7.1ms\n",
      "image 34/481 /home/sl3088/yolov8_suland/dataset/ITA.yolo/test/images/ITA-v2/ITA-v2-128.jpg: 640x480 (no detections), 7.1ms\n",
      "image 35/481 /home/sl3088/yolov8_suland/dataset/ITA.yolo/test/images/ITA-v2/ITA-v2-129.jpg: 640x480 (no detections), 7.1ms\n",
      "image 36/481 /home/sl3088/yolov8_suland/dataset/ITA.yolo/test/images/ITA-v2/ITA-v2-13.jpg: 640x480 1 butterfly, 1 starfish, 7.1ms\n",
      "image 37/481 /home/sl3088/yolov8_suland/dataset/ITA.yolo/test/images/ITA-v2/ITA-v2-130.jpg: 640x480 (no detections), 7.1ms\n",
      "image 38/481 /home/sl3088/yolov8_suland/dataset/ITA.yolo/test/images/ITA-v2/ITA-v2-131.jpg: 640x480 (no detections), 7.0ms\n",
      "image 39/481 /home/sl3088/yolov8_suland/dataset/ITA.yolo/test/images/ITA-v2/ITA-v2-132.jpg: 640x480 (no detections), 7.1ms\n",
      "image 40/481 /home/sl3088/yolov8_suland/dataset/ITA.yolo/test/images/ITA-v2/ITA-v2-133.jpg: 640x480 (no detections), 7.0ms\n",
      "image 41/481 /home/sl3088/yolov8_suland/dataset/ITA.yolo/test/images/ITA-v2/ITA-v2-134.jpg: 640x480 (no detections), 7.1ms\n",
      "image 42/481 /home/sl3088/yolov8_suland/dataset/ITA.yolo/test/images/ITA-v2/ITA-v2-135.jpg: 640x480 (no detections), 7.1ms\n",
      "image 43/481 /home/sl3088/yolov8_suland/dataset/ITA.yolo/test/images/ITA-v2/ITA-v2-136.jpg: 640x480 (no detections), 7.1ms\n",
      "image 44/481 /home/sl3088/yolov8_suland/dataset/ITA.yolo/test/images/ITA-v2/ITA-v2-137.jpg: 640x480 (no detections), 7.0ms\n",
      "image 45/481 /home/sl3088/yolov8_suland/dataset/ITA.yolo/test/images/ITA-v2/ITA-v2-138.jpg: 640x480 (no detections), 7.1ms\n",
      "image 46/481 /home/sl3088/yolov8_suland/dataset/ITA.yolo/test/images/ITA-v2/ITA-v2-139.jpg: 640x480 (no detections), 7.1ms\n",
      "image 47/481 /home/sl3088/yolov8_suland/dataset/ITA.yolo/test/images/ITA-v2/ITA-v2-14.jpg: 640x480 1 butterfly, 1 starfish, 7.1ms\n",
      "image 48/481 /home/sl3088/yolov8_suland/dataset/ITA.yolo/test/images/ITA-v2/ITA-v2-140.jpg: 640x480 (no detections), 7.1ms\n",
      "image 49/481 /home/sl3088/yolov8_suland/dataset/ITA.yolo/test/images/ITA-v2/ITA-v2-141.jpg: 640x480 (no detections), 7.2ms\n",
      "image 50/481 /home/sl3088/yolov8_suland/dataset/ITA.yolo/test/images/ITA-v2/ITA-v2-142.jpg: 640x480 (no detections), 7.1ms\n",
      "image 51/481 /home/sl3088/yolov8_suland/dataset/ITA.yolo/test/images/ITA-v2/ITA-v2-143.jpg: 640x480 (no detections), 7.1ms\n",
      "image 52/481 /home/sl3088/yolov8_suland/dataset/ITA.yolo/test/images/ITA-v2/ITA-v2-144.jpg: 640x480 (no detections), 7.1ms\n",
      "image 53/481 /home/sl3088/yolov8_suland/dataset/ITA.yolo/test/images/ITA-v2/ITA-v2-145.jpg: 640x480 (no detections), 7.1ms\n",
      "image 54/481 /home/sl3088/yolov8_suland/dataset/ITA.yolo/test/images/ITA-v2/ITA-v2-146.jpg: 640x480 (no detections), 7.0ms\n",
      "image 55/481 /home/sl3088/yolov8_suland/dataset/ITA.yolo/test/images/ITA-v2/ITA-v2-147.jpg: 640x480 (no detections), 7.0ms\n",
      "image 56/481 /home/sl3088/yolov8_suland/dataset/ITA.yolo/test/images/ITA-v2/ITA-v2-148.jpg: 640x480 (no detections), 7.0ms\n",
      "image 57/481 /home/sl3088/yolov8_suland/dataset/ITA.yolo/test/images/ITA-v2/ITA-v2-149.jpg: 640x480 (no detections), 7.1ms\n",
      "image 58/481 /home/sl3088/yolov8_suland/dataset/ITA.yolo/test/images/ITA-v2/ITA-v2-15.jpg: 640x480 1 butterfly, 1 starfish, 7.0ms\n",
      "image 59/481 /home/sl3088/yolov8_suland/dataset/ITA.yolo/test/images/ITA-v2/ITA-v2-150.jpg: 640x480 (no detections), 7.1ms\n",
      "image 60/481 /home/sl3088/yolov8_suland/dataset/ITA.yolo/test/images/ITA-v2/ITA-v2-151.jpg: 640x480 (no detections), 7.1ms\n",
      "image 61/481 /home/sl3088/yolov8_suland/dataset/ITA.yolo/test/images/ITA-v2/ITA-v2-152.jpg: 640x480 (no detections), 7.0ms\n",
      "image 62/481 /home/sl3088/yolov8_suland/dataset/ITA.yolo/test/images/ITA-v2/ITA-v2-153.jpg: 640x480 (no detections), 7.1ms\n",
      "image 63/481 /home/sl3088/yolov8_suland/dataset/ITA.yolo/test/images/ITA-v2/ITA-v2-154.jpg: 640x480 (no detections), 7.1ms\n",
      "image 64/481 /home/sl3088/yolov8_suland/dataset/ITA.yolo/test/images/ITA-v2/ITA-v2-155.jpg: 640x480 (no detections), 7.1ms\n",
      "image 65/481 /home/sl3088/yolov8_suland/dataset/ITA.yolo/test/images/ITA-v2/ITA-v2-156.jpg: 640x480 (no detections), 7.1ms\n",
      "image 66/481 /home/sl3088/yolov8_suland/dataset/ITA.yolo/test/images/ITA-v2/ITA-v2-157.jpg: 640x480 (no detections), 7.1ms\n",
      "image 67/481 /home/sl3088/yolov8_suland/dataset/ITA.yolo/test/images/ITA-v2/ITA-v2-158.jpg: 640x480 (no detections), 7.1ms\n",
      "image 68/481 /home/sl3088/yolov8_suland/dataset/ITA.yolo/test/images/ITA-v2/ITA-v2-159.jpg: 640x480 (no detections), 7.0ms\n",
      "image 69/481 /home/sl3088/yolov8_suland/dataset/ITA.yolo/test/images/ITA-v2/ITA-v2-16.jpg: 640x480 1 butterfly, 1 starfish, 7.1ms\n",
      "image 70/481 /home/sl3088/yolov8_suland/dataset/ITA.yolo/test/images/ITA-v2/ITA-v2-160.jpg: 640x480 (no detections), 7.1ms\n",
      "image 71/481 /home/sl3088/yolov8_suland/dataset/ITA.yolo/test/images/ITA-v2/ITA-v2-161.jpg: 640x480 (no detections), 7.1ms\n",
      "image 72/481 /home/sl3088/yolov8_suland/dataset/ITA.yolo/test/images/ITA-v2/ITA-v2-162.jpg: 640x480 (no detections), 7.0ms\n",
      "image 73/481 /home/sl3088/yolov8_suland/dataset/ITA.yolo/test/images/ITA-v2/ITA-v2-163.jpg: 640x480 (no detections), 7.0ms\n",
      "image 74/481 /home/sl3088/yolov8_suland/dataset/ITA.yolo/test/images/ITA-v2/ITA-v2-164.jpg: 640x480 (no detections), 7.0ms\n",
      "image 75/481 /home/sl3088/yolov8_suland/dataset/ITA.yolo/test/images/ITA-v2/ITA-v2-165.jpg: 640x480 (no detections), 7.1ms\n",
      "image 76/481 /home/sl3088/yolov8_suland/dataset/ITA.yolo/test/images/ITA-v2/ITA-v2-166.jpg: 640x480 (no detections), 7.1ms\n",
      "image 77/481 /home/sl3088/yolov8_suland/dataset/ITA.yolo/test/images/ITA-v2/ITA-v2-167.jpg: 640x480 (no detections), 7.1ms\n",
      "image 78/481 /home/sl3088/yolov8_suland/dataset/ITA.yolo/test/images/ITA-v2/ITA-v2-168.jpg: 640x480 (no detections), 7.1ms\n",
      "image 79/481 /home/sl3088/yolov8_suland/dataset/ITA.yolo/test/images/ITA-v2/ITA-v2-169.jpg: 640x480 (no detections), 7.1ms\n",
      "image 80/481 /home/sl3088/yolov8_suland/dataset/ITA.yolo/test/images/ITA-v2/ITA-v2-17.jpg: 640x480 1 butterfly, 1 starfish, 7.1ms\n",
      "image 81/481 /home/sl3088/yolov8_suland/dataset/ITA.yolo/test/images/ITA-v2/ITA-v2-170.jpg: 640x480 (no detections), 7.1ms\n",
      "image 82/481 /home/sl3088/yolov8_suland/dataset/ITA.yolo/test/images/ITA-v2/ITA-v2-171.jpg: 640x480 (no detections), 7.1ms\n",
      "image 83/481 /home/sl3088/yolov8_suland/dataset/ITA.yolo/test/images/ITA-v2/ITA-v2-172.jpg: 640x480 (no detections), 7.1ms\n",
      "image 84/481 /home/sl3088/yolov8_suland/dataset/ITA.yolo/test/images/ITA-v2/ITA-v2-173.jpg: 640x480 (no detections), 7.0ms\n",
      "image 85/481 /home/sl3088/yolov8_suland/dataset/ITA.yolo/test/images/ITA-v2/ITA-v2-174.jpg: 640x480 (no detections), 7.1ms\n",
      "image 86/481 /home/sl3088/yolov8_suland/dataset/ITA.yolo/test/images/ITA-v2/ITA-v2-175.jpg: 640x480 (no detections), 7.1ms\n",
      "image 87/481 /home/sl3088/yolov8_suland/dataset/ITA.yolo/test/images/ITA-v2/ITA-v2-176.jpg: 640x480 (no detections), 7.0ms\n",
      "image 88/481 /home/sl3088/yolov8_suland/dataset/ITA.yolo/test/images/ITA-v2/ITA-v2-177.jpg: 640x480 (no detections), 7.1ms\n",
      "image 89/481 /home/sl3088/yolov8_suland/dataset/ITA.yolo/test/images/ITA-v2/ITA-v2-178.jpg: 640x480 (no detections), 7.1ms\n",
      "image 90/481 /home/sl3088/yolov8_suland/dataset/ITA.yolo/test/images/ITA-v2/ITA-v2-179.jpg: 640x480 (no detections), 7.0ms\n",
      "image 91/481 /home/sl3088/yolov8_suland/dataset/ITA.yolo/test/images/ITA-v2/ITA-v2-18.jpg: 640x480 1 butterfly, 1 starfish, 7.1ms\n",
      "image 92/481 /home/sl3088/yolov8_suland/dataset/ITA.yolo/test/images/ITA-v2/ITA-v2-180.jpg: 640x480 (no detections), 7.1ms\n",
      "image 93/481 /home/sl3088/yolov8_suland/dataset/ITA.yolo/test/images/ITA-v2/ITA-v2-181.jpg: 640x480 (no detections), 7.1ms\n",
      "image 94/481 /home/sl3088/yolov8_suland/dataset/ITA.yolo/test/images/ITA-v2/ITA-v2-182.jpg: 640x480 (no detections), 7.1ms\n",
      "image 95/481 /home/sl3088/yolov8_suland/dataset/ITA.yolo/test/images/ITA-v2/ITA-v2-183.jpg: 640x480 (no detections), 7.0ms\n",
      "image 96/481 /home/sl3088/yolov8_suland/dataset/ITA.yolo/test/images/ITA-v2/ITA-v2-184.jpg: 640x480 (no detections), 7.1ms\n",
      "image 97/481 /home/sl3088/yolov8_suland/dataset/ITA.yolo/test/images/ITA-v2/ITA-v2-185.jpg: 640x480 (no detections), 7.1ms\n",
      "image 98/481 /home/sl3088/yolov8_suland/dataset/ITA.yolo/test/images/ITA-v2/ITA-v2-186.jpg: 640x480 (no detections), 7.1ms\n",
      "image 99/481 /home/sl3088/yolov8_suland/dataset/ITA.yolo/test/images/ITA-v2/ITA-v2-187.jpg: 640x480 (no detections), 7.1ms\n",
      "image 100/481 /home/sl3088/yolov8_suland/dataset/ITA.yolo/test/images/ITA-v2/ITA-v2-188.jpg: 640x480 (no detections), 7.1ms\n",
      "image 101/481 /home/sl3088/yolov8_suland/dataset/ITA.yolo/test/images/ITA-v2/ITA-v2-189.jpg: 640x480 (no detections), 7.1ms\n",
      "image 102/481 /home/sl3088/yolov8_suland/dataset/ITA.yolo/test/images/ITA-v2/ITA-v2-19.jpg: 640x480 1 butterfly, 1 starfish, 7.0ms\n",
      "image 103/481 /home/sl3088/yolov8_suland/dataset/ITA.yolo/test/images/ITA-v2/ITA-v2-190.jpg: 640x480 (no detections), 7.0ms\n",
      "image 104/481 /home/sl3088/yolov8_suland/dataset/ITA.yolo/test/images/ITA-v2/ITA-v2-191.jpg: 640x480 (no detections), 7.1ms\n",
      "image 105/481 /home/sl3088/yolov8_suland/dataset/ITA.yolo/test/images/ITA-v2/ITA-v2-192.jpg: 640x480 (no detections), 7.0ms\n",
      "image 106/481 /home/sl3088/yolov8_suland/dataset/ITA.yolo/test/images/ITA-v2/ITA-v2-193.jpg: 640x480 (no detections), 7.1ms\n",
      "image 107/481 /home/sl3088/yolov8_suland/dataset/ITA.yolo/test/images/ITA-v2/ITA-v2-194.jpg: 640x480 (no detections), 7.0ms\n",
      "image 108/481 /home/sl3088/yolov8_suland/dataset/ITA.yolo/test/images/ITA-v2/ITA-v2-195.jpg: 640x480 (no detections), 7.1ms\n",
      "image 109/481 /home/sl3088/yolov8_suland/dataset/ITA.yolo/test/images/ITA-v2/ITA-v2-196.jpg: 640x480 (no detections), 7.0ms\n",
      "image 110/481 /home/sl3088/yolov8_suland/dataset/ITA.yolo/test/images/ITA-v2/ITA-v2-197.jpg: 640x480 (no detections), 7.0ms\n",
      "image 111/481 /home/sl3088/yolov8_suland/dataset/ITA.yolo/test/images/ITA-v2/ITA-v2-198.jpg: 640x480 (no detections), 7.1ms\n",
      "image 112/481 /home/sl3088/yolov8_suland/dataset/ITA.yolo/test/images/ITA-v2/ITA-v2-199.jpg: 640x480 (no detections), 7.1ms\n",
      "image 113/481 /home/sl3088/yolov8_suland/dataset/ITA.yolo/test/images/ITA-v2/ITA-v2-2.jpg: 640x480 1 butterfly, 1 starfish, 7.1ms\n",
      "image 114/481 /home/sl3088/yolov8_suland/dataset/ITA.yolo/test/images/ITA-v2/ITA-v2-20.jpg: 640x480 1 butterfly, 1 starfish, 7.1ms\n",
      "image 115/481 /home/sl3088/yolov8_suland/dataset/ITA.yolo/test/images/ITA-v2/ITA-v2-200.jpg: 640x480 (no detections), 7.1ms\n",
      "image 116/481 /home/sl3088/yolov8_suland/dataset/ITA.yolo/test/images/ITA-v2/ITA-v2-201.jpg: 640x480 (no detections), 7.0ms\n",
      "image 117/481 /home/sl3088/yolov8_suland/dataset/ITA.yolo/test/images/ITA-v2/ITA-v2-202.jpg: 640x480 (no detections), 7.1ms\n",
      "image 118/481 /home/sl3088/yolov8_suland/dataset/ITA.yolo/test/images/ITA-v2/ITA-v2-203.jpg: 640x480 (no detections), 7.2ms\n",
      "image 119/481 /home/sl3088/yolov8_suland/dataset/ITA.yolo/test/images/ITA-v2/ITA-v2-204.jpg: 640x480 (no detections), 7.1ms\n",
      "image 120/481 /home/sl3088/yolov8_suland/dataset/ITA.yolo/test/images/ITA-v2/ITA-v2-205.jpg: 640x480 (no detections), 7.0ms\n",
      "image 121/481 /home/sl3088/yolov8_suland/dataset/ITA.yolo/test/images/ITA-v2/ITA-v2-206.jpg: 640x480 (no detections), 7.1ms\n",
      "image 122/481 /home/sl3088/yolov8_suland/dataset/ITA.yolo/test/images/ITA-v2/ITA-v2-207.jpg: 640x480 (no detections), 7.1ms\n",
      "image 123/481 /home/sl3088/yolov8_suland/dataset/ITA.yolo/test/images/ITA-v2/ITA-v2-208.jpg: 640x480 (no detections), 7.0ms\n",
      "image 124/481 /home/sl3088/yolov8_suland/dataset/ITA.yolo/test/images/ITA-v2/ITA-v2-209.jpg: 640x480 (no detections), 7.1ms\n",
      "image 125/481 /home/sl3088/yolov8_suland/dataset/ITA.yolo/test/images/ITA-v2/ITA-v2-21.jpg: 640x480 1 butterfly, 1 starfish, 7.1ms\n",
      "image 126/481 /home/sl3088/yolov8_suland/dataset/ITA.yolo/test/images/ITA-v2/ITA-v2-210.jpg: 640x480 (no detections), 7.1ms\n",
      "image 127/481 /home/sl3088/yolov8_suland/dataset/ITA.yolo/test/images/ITA-v2/ITA-v2-211.jpg: 640x480 (no detections), 7.2ms\n",
      "image 128/481 /home/sl3088/yolov8_suland/dataset/ITA.yolo/test/images/ITA-v2/ITA-v2-212.jpg: 640x480 (no detections), 7.1ms\n",
      "image 129/481 /home/sl3088/yolov8_suland/dataset/ITA.yolo/test/images/ITA-v2/ITA-v2-213.jpg: 640x480 (no detections), 7.1ms\n",
      "image 130/481 /home/sl3088/yolov8_suland/dataset/ITA.yolo/test/images/ITA-v2/ITA-v2-214.jpg: 640x480 (no detections), 7.1ms\n",
      "image 131/481 /home/sl3088/yolov8_suland/dataset/ITA.yolo/test/images/ITA-v2/ITA-v2-215.jpg: 640x480 (no detections), 7.0ms\n",
      "image 132/481 /home/sl3088/yolov8_suland/dataset/ITA.yolo/test/images/ITA-v2/ITA-v2-216.jpg: 640x480 (no detections), 7.1ms\n",
      "image 133/481 /home/sl3088/yolov8_suland/dataset/ITA.yolo/test/images/ITA-v2/ITA-v2-217.jpg: 640x480 (no detections), 7.1ms\n",
      "image 134/481 /home/sl3088/yolov8_suland/dataset/ITA.yolo/test/images/ITA-v2/ITA-v2-218.jpg: 640x480 (no detections), 7.1ms\n",
      "image 135/481 /home/sl3088/yolov8_suland/dataset/ITA.yolo/test/images/ITA-v2/ITA-v2-219.jpg: 640x480 (no detections), 7.1ms\n",
      "image 136/481 /home/sl3088/yolov8_suland/dataset/ITA.yolo/test/images/ITA-v2/ITA-v2-22.jpg: 640x480 1 butterfly, 1 starfish, 7.1ms\n",
      "image 137/481 /home/sl3088/yolov8_suland/dataset/ITA.yolo/test/images/ITA-v2/ITA-v2-220.jpg: 640x480 (no detections), 7.1ms\n",
      "image 138/481 /home/sl3088/yolov8_suland/dataset/ITA.yolo/test/images/ITA-v2/ITA-v2-221.jpg: 640x480 (no detections), 7.1ms\n",
      "image 139/481 /home/sl3088/yolov8_suland/dataset/ITA.yolo/test/images/ITA-v2/ITA-v2-222.jpg: 640x480 (no detections), 7.1ms\n",
      "image 140/481 /home/sl3088/yolov8_suland/dataset/ITA.yolo/test/images/ITA-v2/ITA-v2-223.jpg: 640x480 1 butterfly, 7.1ms\n",
      "image 141/481 /home/sl3088/yolov8_suland/dataset/ITA.yolo/test/images/ITA-v2/ITA-v2-224.jpg: 640x480 (no detections), 7.1ms\n",
      "image 142/481 /home/sl3088/yolov8_suland/dataset/ITA.yolo/test/images/ITA-v2/ITA-v2-225.jpg: 640x480 (no detections), 7.1ms\n",
      "image 143/481 /home/sl3088/yolov8_suland/dataset/ITA.yolo/test/images/ITA-v2/ITA-v2-226.jpg: 640x480 (no detections), 7.0ms\n",
      "image 144/481 /home/sl3088/yolov8_suland/dataset/ITA.yolo/test/images/ITA-v2/ITA-v2-227.jpg: 640x480 1 butterfly, 7.1ms\n",
      "image 145/481 /home/sl3088/yolov8_suland/dataset/ITA.yolo/test/images/ITA-v2/ITA-v2-228.jpg: 640x480 1 butterfly, 1 starfish, 7.1ms\n",
      "image 146/481 /home/sl3088/yolov8_suland/dataset/ITA.yolo/test/images/ITA-v2/ITA-v2-229.jpg: 640x480 1 starfish, 7.1ms\n",
      "image 147/481 /home/sl3088/yolov8_suland/dataset/ITA.yolo/test/images/ITA-v2/ITA-v2-23.jpg: 640x480 1 butterfly, 1 starfish, 7.1ms\n",
      "image 148/481 /home/sl3088/yolov8_suland/dataset/ITA.yolo/test/images/ITA-v2/ITA-v2-230.jpg: 640x480 1 starfish, 7.1ms\n",
      "image 149/481 /home/sl3088/yolov8_suland/dataset/ITA.yolo/test/images/ITA-v2/ITA-v2-231.jpg: 640x480 1 butterfly, 7.0ms\n",
      "image 150/481 /home/sl3088/yolov8_suland/dataset/ITA.yolo/test/images/ITA-v2/ITA-v2-232.jpg: 640x480 1 butterfly, 7.1ms\n",
      "image 151/481 /home/sl3088/yolov8_suland/dataset/ITA.yolo/test/images/ITA-v2/ITA-v2-233.jpg: 640x480 (no detections), 7.1ms\n",
      "image 152/481 /home/sl3088/yolov8_suland/dataset/ITA.yolo/test/images/ITA-v2/ITA-v2-234.jpg: 640x480 1 starfish, 7.1ms\n",
      "image 153/481 /home/sl3088/yolov8_suland/dataset/ITA.yolo/test/images/ITA-v2/ITA-v2-235.jpg: 640x480 1 starfish, 7.1ms\n",
      "image 154/481 /home/sl3088/yolov8_suland/dataset/ITA.yolo/test/images/ITA-v2/ITA-v2-236.jpg: 640x480 1 starfish, 7.1ms\n",
      "image 155/481 /home/sl3088/yolov8_suland/dataset/ITA.yolo/test/images/ITA-v2/ITA-v2-237.jpg: 640x480 1 butterfly, 7.1ms\n",
      "image 156/481 /home/sl3088/yolov8_suland/dataset/ITA.yolo/test/images/ITA-v2/ITA-v2-238.jpg: 640x480 (no detections), 7.0ms\n",
      "image 157/481 /home/sl3088/yolov8_suland/dataset/ITA.yolo/test/images/ITA-v2/ITA-v2-239.jpg: 640x480 1 butterfly, 7.1ms\n",
      "image 158/481 /home/sl3088/yolov8_suland/dataset/ITA.yolo/test/images/ITA-v2/ITA-v2-24.jpg: 640x480 1 butterfly, 1 starfish, 7.1ms\n",
      "image 159/481 /home/sl3088/yolov8_suland/dataset/ITA.yolo/test/images/ITA-v2/ITA-v2-240.jpg: 640x480 1 butterfly, 7.1ms\n",
      "image 160/481 /home/sl3088/yolov8_suland/dataset/ITA.yolo/test/images/ITA-v2/ITA-v2-241.jpg: 640x480 (no detections), 7.1ms\n",
      "image 161/481 /home/sl3088/yolov8_suland/dataset/ITA.yolo/test/images/ITA-v2/ITA-v2-242.jpg: 640x480 (no detections), 7.1ms\n",
      "image 162/481 /home/sl3088/yolov8_suland/dataset/ITA.yolo/test/images/ITA-v2/ITA-v2-243.jpg: 640x480 1 butterfly, 7.1ms\n",
      "image 163/481 /home/sl3088/yolov8_suland/dataset/ITA.yolo/test/images/ITA-v2/ITA-v2-244.jpg: 640x480 1 butterfly, 7.1ms\n",
      "image 164/481 /home/sl3088/yolov8_suland/dataset/ITA.yolo/test/images/ITA-v2/ITA-v2-245.jpg: 640x480 1 butterfly, 7.1ms\n",
      "image 165/481 /home/sl3088/yolov8_suland/dataset/ITA.yolo/test/images/ITA-v2/ITA-v2-246.jpg: 640x480 1 butterfly, 7.1ms\n",
      "image 166/481 /home/sl3088/yolov8_suland/dataset/ITA.yolo/test/images/ITA-v2/ITA-v2-247.jpg: 640x480 (no detections), 7.1ms\n",
      "image 167/481 /home/sl3088/yolov8_suland/dataset/ITA.yolo/test/images/ITA-v2/ITA-v2-248.jpg: 640x480 1 butterfly, 7.0ms\n",
      "image 168/481 /home/sl3088/yolov8_suland/dataset/ITA.yolo/test/images/ITA-v2/ITA-v2-249.jpg: 640x480 (no detections), 7.1ms\n",
      "image 169/481 /home/sl3088/yolov8_suland/dataset/ITA.yolo/test/images/ITA-v2/ITA-v2-25.jpg: 640x480 1 butterfly, 1 starfish, 7.0ms\n",
      "image 170/481 /home/sl3088/yolov8_suland/dataset/ITA.yolo/test/images/ITA-v2/ITA-v2-250.jpg: 640x480 (no detections), 7.1ms\n",
      "image 171/481 /home/sl3088/yolov8_suland/dataset/ITA.yolo/test/images/ITA-v2/ITA-v2-251.jpg: 640x480 (no detections), 7.1ms\n",
      "image 172/481 /home/sl3088/yolov8_suland/dataset/ITA.yolo/test/images/ITA-v2/ITA-v2-252.jpg: 640x480 1 butterfly, 7.1ms\n",
      "image 173/481 /home/sl3088/yolov8_suland/dataset/ITA.yolo/test/images/ITA-v2/ITA-v2-253.jpg: 640x480 (no detections), 7.1ms\n",
      "image 174/481 /home/sl3088/yolov8_suland/dataset/ITA.yolo/test/images/ITA-v2/ITA-v2-254.jpg: 640x480 (no detections), 7.1ms\n",
      "image 175/481 /home/sl3088/yolov8_suland/dataset/ITA.yolo/test/images/ITA-v2/ITA-v2-255.jpg: 640x480 (no detections), 7.0ms\n",
      "image 176/481 /home/sl3088/yolov8_suland/dataset/ITA.yolo/test/images/ITA-v2/ITA-v2-256.jpg: 640x480 (no detections), 7.0ms\n",
      "image 177/481 /home/sl3088/yolov8_suland/dataset/ITA.yolo/test/images/ITA-v2/ITA-v2-257.jpg: 640x480 (no detections), 7.1ms\n",
      "image 178/481 /home/sl3088/yolov8_suland/dataset/ITA.yolo/test/images/ITA-v2/ITA-v2-258.jpg: 640x480 (no detections), 7.1ms\n",
      "image 179/481 /home/sl3088/yolov8_suland/dataset/ITA.yolo/test/images/ITA-v2/ITA-v2-259.jpg: 640x480 (no detections), 7.1ms\n",
      "image 180/481 /home/sl3088/yolov8_suland/dataset/ITA.yolo/test/images/ITA-v2/ITA-v2-26.jpg: 640x480 1 starfish, 7.1ms\n",
      "image 181/481 /home/sl3088/yolov8_suland/dataset/ITA.yolo/test/images/ITA-v2/ITA-v2-260.jpg: 640x480 (no detections), 7.1ms\n",
      "image 182/481 /home/sl3088/yolov8_suland/dataset/ITA.yolo/test/images/ITA-v2/ITA-v2-261.jpg: 640x480 1 butterfly, 7.1ms\n",
      "image 183/481 /home/sl3088/yolov8_suland/dataset/ITA.yolo/test/images/ITA-v2/ITA-v2-262.jpg: 640x480 (no detections), 7.1ms\n",
      "image 184/481 /home/sl3088/yolov8_suland/dataset/ITA.yolo/test/images/ITA-v2/ITA-v2-263.jpg: 640x480 (no detections), 7.1ms\n",
      "image 185/481 /home/sl3088/yolov8_suland/dataset/ITA.yolo/test/images/ITA-v2/ITA-v2-264.jpg: 640x480 (no detections), 7.1ms\n",
      "image 186/481 /home/sl3088/yolov8_suland/dataset/ITA.yolo/test/images/ITA-v2/ITA-v2-265.jpg: 640x480 (no detections), 7.1ms\n",
      "image 187/481 /home/sl3088/yolov8_suland/dataset/ITA.yolo/test/images/ITA-v2/ITA-v2-266.jpg: 640x480 (no detections), 7.1ms\n",
      "image 188/481 /home/sl3088/yolov8_suland/dataset/ITA.yolo/test/images/ITA-v2/ITA-v2-267.jpg: 640x480 (no detections), 7.0ms\n",
      "image 189/481 /home/sl3088/yolov8_suland/dataset/ITA.yolo/test/images/ITA-v2/ITA-v2-268.jpg: 640x480 (no detections), 7.1ms\n",
      "image 190/481 /home/sl3088/yolov8_suland/dataset/ITA.yolo/test/images/ITA-v2/ITA-v2-269.jpg: 640x480 (no detections), 7.1ms\n",
      "image 191/481 /home/sl3088/yolov8_suland/dataset/ITA.yolo/test/images/ITA-v2/ITA-v2-27.jpg: 640x480 1 starfish, 7.1ms\n",
      "image 192/481 /home/sl3088/yolov8_suland/dataset/ITA.yolo/test/images/ITA-v2/ITA-v2-270.jpg: 640x480 (no detections), 7.1ms\n",
      "image 193/481 /home/sl3088/yolov8_suland/dataset/ITA.yolo/test/images/ITA-v2/ITA-v2-271.jpg: 640x480 (no detections), 7.1ms\n",
      "image 194/481 /home/sl3088/yolov8_suland/dataset/ITA.yolo/test/images/ITA-v2/ITA-v2-272.jpg: 640x480 (no detections), 7.1ms\n",
      "image 195/481 /home/sl3088/yolov8_suland/dataset/ITA.yolo/test/images/ITA-v2/ITA-v2-273.jpg: 640x480 (no detections), 7.1ms\n",
      "image 196/481 /home/sl3088/yolov8_suland/dataset/ITA.yolo/test/images/ITA-v2/ITA-v2-274.jpg: 640x480 (no detections), 7.0ms\n",
      "image 197/481 /home/sl3088/yolov8_suland/dataset/ITA.yolo/test/images/ITA-v2/ITA-v2-275.jpg: 640x480 (no detections), 7.0ms\n",
      "image 198/481 /home/sl3088/yolov8_suland/dataset/ITA.yolo/test/images/ITA-v2/ITA-v2-276.jpg: 640x480 (no detections), 7.1ms\n",
      "image 199/481 /home/sl3088/yolov8_suland/dataset/ITA.yolo/test/images/ITA-v2/ITA-v2-277.jpg: 640x480 (no detections), 7.1ms\n",
      "image 200/481 /home/sl3088/yolov8_suland/dataset/ITA.yolo/test/images/ITA-v2/ITA-v2-278.jpg: 640x480 1 starfish, 7.1ms\n",
      "image 201/481 /home/sl3088/yolov8_suland/dataset/ITA.yolo/test/images/ITA-v2/ITA-v2-279.jpg: 640x480 1 starfish, 7.1ms\n",
      "image 202/481 /home/sl3088/yolov8_suland/dataset/ITA.yolo/test/images/ITA-v2/ITA-v2-28.jpg: 640x480 1 starfish, 7.1ms\n",
      "image 203/481 /home/sl3088/yolov8_suland/dataset/ITA.yolo/test/images/ITA-v2/ITA-v2-280.jpg: 640x480 1 starfish, 7.1ms\n",
      "image 204/481 /home/sl3088/yolov8_suland/dataset/ITA.yolo/test/images/ITA-v2/ITA-v2-281.jpg: 640x480 1 starfish, 7.1ms\n",
      "image 205/481 /home/sl3088/yolov8_suland/dataset/ITA.yolo/test/images/ITA-v2/ITA-v2-282.jpg: 640x480 1 starfish, 7.0ms\n",
      "image 206/481 /home/sl3088/yolov8_suland/dataset/ITA.yolo/test/images/ITA-v2/ITA-v2-283.jpg: 640x480 1 starfish, 7.1ms\n",
      "image 207/481 /home/sl3088/yolov8_suland/dataset/ITA.yolo/test/images/ITA-v2/ITA-v2-284.jpg: 640x480 1 starfish, 7.1ms\n",
      "image 208/481 /home/sl3088/yolov8_suland/dataset/ITA.yolo/test/images/ITA-v2/ITA-v2-285.jpg: 640x480 1 starfish, 7.1ms\n",
      "image 209/481 /home/sl3088/yolov8_suland/dataset/ITA.yolo/test/images/ITA-v2/ITA-v2-286.jpg: 640x480 1 starfish, 7.1ms\n",
      "image 210/481 /home/sl3088/yolov8_suland/dataset/ITA.yolo/test/images/ITA-v2/ITA-v2-287.jpg: 640x480 1 starfish, 7.0ms\n",
      "image 211/481 /home/sl3088/yolov8_suland/dataset/ITA.yolo/test/images/ITA-v2/ITA-v2-288.jpg: 640x480 1 starfish, 7.1ms\n",
      "image 212/481 /home/sl3088/yolov8_suland/dataset/ITA.yolo/test/images/ITA-v2/ITA-v2-289.jpg: 640x480 1 starfish, 7.1ms\n",
      "image 213/481 /home/sl3088/yolov8_suland/dataset/ITA.yolo/test/images/ITA-v2/ITA-v2-29.jpg: 640x480 1 starfish, 7.1ms\n",
      "image 214/481 /home/sl3088/yolov8_suland/dataset/ITA.yolo/test/images/ITA-v2/ITA-v2-290.jpg: 640x480 1 starfish, 7.1ms\n",
      "image 215/481 /home/sl3088/yolov8_suland/dataset/ITA.yolo/test/images/ITA-v2/ITA-v2-291.jpg: 640x480 1 starfish, 7.0ms\n",
      "image 216/481 /home/sl3088/yolov8_suland/dataset/ITA.yolo/test/images/ITA-v2/ITA-v2-292.jpg: 640x480 1 starfish, 7.1ms\n",
      "image 217/481 /home/sl3088/yolov8_suland/dataset/ITA.yolo/test/images/ITA-v2/ITA-v2-293.jpg: 640x480 1 starfish, 7.0ms\n",
      "image 218/481 /home/sl3088/yolov8_suland/dataset/ITA.yolo/test/images/ITA-v2/ITA-v2-294.jpg: 640x480 1 starfish, 7.1ms\n",
      "image 219/481 /home/sl3088/yolov8_suland/dataset/ITA.yolo/test/images/ITA-v2/ITA-v2-295.jpg: 640x480 1 starfish, 7.0ms\n",
      "image 220/481 /home/sl3088/yolov8_suland/dataset/ITA.yolo/test/images/ITA-v2/ITA-v2-296.jpg: 640x480 1 starfish, 7.1ms\n",
      "image 221/481 /home/sl3088/yolov8_suland/dataset/ITA.yolo/test/images/ITA-v2/ITA-v2-297.jpg: 640x480 1 starfish, 7.1ms\n",
      "image 222/481 /home/sl3088/yolov8_suland/dataset/ITA.yolo/test/images/ITA-v2/ITA-v2-298.jpg: 640x480 1 starfish, 7.1ms\n",
      "image 223/481 /home/sl3088/yolov8_suland/dataset/ITA.yolo/test/images/ITA-v2/ITA-v2-299.jpg: 640x480 1 starfish, 7.1ms\n",
      "image 224/481 /home/sl3088/yolov8_suland/dataset/ITA.yolo/test/images/ITA-v2/ITA-v2-3.jpg: 640x480 1 butterfly, 1 starfish, 7.1ms\n",
      "image 225/481 /home/sl3088/yolov8_suland/dataset/ITA.yolo/test/images/ITA-v2/ITA-v2-30.jpg: 640x480 1 starfish, 7.1ms\n",
      "image 226/481 /home/sl3088/yolov8_suland/dataset/ITA.yolo/test/images/ITA-v2/ITA-v2-300.jpg: 640x480 1 starfish, 7.1ms\n",
      "image 227/481 /home/sl3088/yolov8_suland/dataset/ITA.yolo/test/images/ITA-v2/ITA-v2-301.jpg: 640x480 1 starfish, 7.1ms\n",
      "image 228/481 /home/sl3088/yolov8_suland/dataset/ITA.yolo/test/images/ITA-v2/ITA-v2-302.jpg: 640x480 1 starfish, 7.0ms\n",
      "image 229/481 /home/sl3088/yolov8_suland/dataset/ITA.yolo/test/images/ITA-v2/ITA-v2-303.jpg: 640x480 1 starfish, 7.1ms\n",
      "image 230/481 /home/sl3088/yolov8_suland/dataset/ITA.yolo/test/images/ITA-v2/ITA-v2-304.jpg: 640x480 1 starfish, 7.1ms\n",
      "image 231/481 /home/sl3088/yolov8_suland/dataset/ITA.yolo/test/images/ITA-v2/ITA-v2-305.jpg: 640x480 1 starfish, 7.1ms\n",
      "image 232/481 /home/sl3088/yolov8_suland/dataset/ITA.yolo/test/images/ITA-v2/ITA-v2-306.jpg: 640x480 1 starfish, 7.1ms\n",
      "image 233/481 /home/sl3088/yolov8_suland/dataset/ITA.yolo/test/images/ITA-v2/ITA-v2-307.jpg: 640x480 1 starfish, 7.1ms\n",
      "image 234/481 /home/sl3088/yolov8_suland/dataset/ITA.yolo/test/images/ITA-v2/ITA-v2-308.jpg: 640x480 1 starfish, 7.1ms\n",
      "image 235/481 /home/sl3088/yolov8_suland/dataset/ITA.yolo/test/images/ITA-v2/ITA-v2-309.jpg: 640x480 1 starfish, 7.1ms\n",
      "image 236/481 /home/sl3088/yolov8_suland/dataset/ITA.yolo/test/images/ITA-v2/ITA-v2-31.jpg: 640x480 1 starfish, 7.1ms\n",
      "image 237/481 /home/sl3088/yolov8_suland/dataset/ITA.yolo/test/images/ITA-v2/ITA-v2-310.jpg: 640x480 1 starfish, 7.1ms\n",
      "image 238/481 /home/sl3088/yolov8_suland/dataset/ITA.yolo/test/images/ITA-v2/ITA-v2-311.jpg: 640x480 1 starfish, 7.1ms\n",
      "image 239/481 /home/sl3088/yolov8_suland/dataset/ITA.yolo/test/images/ITA-v2/ITA-v2-312.jpg: 640x480 1 starfish, 7.1ms\n",
      "image 240/481 /home/sl3088/yolov8_suland/dataset/ITA.yolo/test/images/ITA-v2/ITA-v2-313.jpg: 640x480 1 starfish, 7.0ms\n",
      "image 241/481 /home/sl3088/yolov8_suland/dataset/ITA.yolo/test/images/ITA-v2/ITA-v2-314.jpg: 640x480 1 starfish, 7.1ms\n",
      "image 242/481 /home/sl3088/yolov8_suland/dataset/ITA.yolo/test/images/ITA-v2/ITA-v2-315.jpg: 640x480 1 starfish, 7.0ms\n",
      "image 243/481 /home/sl3088/yolov8_suland/dataset/ITA.yolo/test/images/ITA-v2/ITA-v2-316.jpg: 640x480 1 starfish, 7.1ms\n",
      "image 244/481 /home/sl3088/yolov8_suland/dataset/ITA.yolo/test/images/ITA-v2/ITA-v2-317.jpg: 640x480 1 starfish, 7.1ms\n",
      "image 245/481 /home/sl3088/yolov8_suland/dataset/ITA.yolo/test/images/ITA-v2/ITA-v2-318.jpg: 640x480 1 starfish, 7.1ms\n",
      "image 246/481 /home/sl3088/yolov8_suland/dataset/ITA.yolo/test/images/ITA-v2/ITA-v2-319.jpg: 640x480 1 starfish, 7.1ms\n",
      "image 247/481 /home/sl3088/yolov8_suland/dataset/ITA.yolo/test/images/ITA-v2/ITA-v2-32.jpg: 640x480 1 starfish, 7.1ms\n",
      "image 248/481 /home/sl3088/yolov8_suland/dataset/ITA.yolo/test/images/ITA-v2/ITA-v2-320.jpg: 640x480 1 starfish, 7.1ms\n",
      "image 249/481 /home/sl3088/yolov8_suland/dataset/ITA.yolo/test/images/ITA-v2/ITA-v2-321.jpg: 640x480 1 butterfly, 1 starfish, 7.1ms\n",
      "image 250/481 /home/sl3088/yolov8_suland/dataset/ITA.yolo/test/images/ITA-v2/ITA-v2-322.jpg: 640x480 1 starfish, 7.1ms\n",
      "image 251/481 /home/sl3088/yolov8_suland/dataset/ITA.yolo/test/images/ITA-v2/ITA-v2-323.jpg: 640x480 1 starfish, 7.1ms\n",
      "image 252/481 /home/sl3088/yolov8_suland/dataset/ITA.yolo/test/images/ITA-v2/ITA-v2-324.jpg: 640x480 1 starfish, 7.1ms\n",
      "image 253/481 /home/sl3088/yolov8_suland/dataset/ITA.yolo/test/images/ITA-v2/ITA-v2-325.jpg: 640x480 1 butterfly, 1 starfish, 7.1ms\n",
      "image 254/481 /home/sl3088/yolov8_suland/dataset/ITA.yolo/test/images/ITA-v2/ITA-v2-326.jpg: 640x480 1 starfish, 7.0ms\n",
      "image 255/481 /home/sl3088/yolov8_suland/dataset/ITA.yolo/test/images/ITA-v2/ITA-v2-327.jpg: 640x480 1 butterfly, 1 starfish, 7.1ms\n",
      "image 256/481 /home/sl3088/yolov8_suland/dataset/ITA.yolo/test/images/ITA-v2/ITA-v2-328.jpg: 640x480 1 butterfly, 1 starfish, 7.0ms\n",
      "image 257/481 /home/sl3088/yolov8_suland/dataset/ITA.yolo/test/images/ITA-v2/ITA-v2-329.jpg: 640x480 1 starfish, 7.1ms\n",
      "image 258/481 /home/sl3088/yolov8_suland/dataset/ITA.yolo/test/images/ITA-v2/ITA-v2-33.jpg: 640x480 1 starfish, 7.1ms\n",
      "image 259/481 /home/sl3088/yolov8_suland/dataset/ITA.yolo/test/images/ITA-v2/ITA-v2-330.jpg: 640x480 1 butterfly, 1 starfish, 7.1ms\n",
      "image 260/481 /home/sl3088/yolov8_suland/dataset/ITA.yolo/test/images/ITA-v2/ITA-v2-331.jpg: 640x480 1 butterfly, 1 starfish, 7.1ms\n",
      "image 261/481 /home/sl3088/yolov8_suland/dataset/ITA.yolo/test/images/ITA-v2/ITA-v2-332.jpg: 640x480 1 butterfly, 1 starfish, 7.1ms\n",
      "image 262/481 /home/sl3088/yolov8_suland/dataset/ITA.yolo/test/images/ITA-v2/ITA-v2-333.jpg: 640x480 1 butterfly, 1 starfish, 7.1ms\n",
      "image 263/481 /home/sl3088/yolov8_suland/dataset/ITA.yolo/test/images/ITA-v2/ITA-v2-334.jpg: 640x480 1 butterfly, 1 starfish, 7.0ms\n",
      "image 264/481 /home/sl3088/yolov8_suland/dataset/ITA.yolo/test/images/ITA-v2/ITA-v2-335.jpg: 640x480 1 butterfly, 1 starfish, 7.1ms\n",
      "image 265/481 /home/sl3088/yolov8_suland/dataset/ITA.yolo/test/images/ITA-v2/ITA-v2-336.jpg: 640x480 1 butterfly, 1 starfish, 7.2ms\n",
      "image 266/481 /home/sl3088/yolov8_suland/dataset/ITA.yolo/test/images/ITA-v2/ITA-v2-337.jpg: 640x480 1 butterfly, 1 starfish, 7.1ms\n",
      "image 267/481 /home/sl3088/yolov8_suland/dataset/ITA.yolo/test/images/ITA-v2/ITA-v2-338.jpg: 640x480 1 butterfly, 1 starfish, 7.1ms\n",
      "image 268/481 /home/sl3088/yolov8_suland/dataset/ITA.yolo/test/images/ITA-v2/ITA-v2-339.jpg: 640x480 1 starfish, 7.0ms\n",
      "image 269/481 /home/sl3088/yolov8_suland/dataset/ITA.yolo/test/images/ITA-v2/ITA-v2-34.jpg: 640x480 1 starfish, 7.1ms\n",
      "image 270/481 /home/sl3088/yolov8_suland/dataset/ITA.yolo/test/images/ITA-v2/ITA-v2-340.jpg: 640x480 1 butterfly, 1 starfish, 7.1ms\n",
      "image 271/481 /home/sl3088/yolov8_suland/dataset/ITA.yolo/test/images/ITA-v2/ITA-v2-341.jpg: 640x480 1 butterfly, 1 starfish, 7.0ms\n",
      "image 272/481 /home/sl3088/yolov8_suland/dataset/ITA.yolo/test/images/ITA-v2/ITA-v2-342.jpg: 640x480 1 butterfly, 1 starfish, 7.1ms\n",
      "image 273/481 /home/sl3088/yolov8_suland/dataset/ITA.yolo/test/images/ITA-v2/ITA-v2-343.jpg: 640x480 1 butterfly, 1 starfish, 7.1ms\n",
      "image 274/481 /home/sl3088/yolov8_suland/dataset/ITA.yolo/test/images/ITA-v2/ITA-v2-344.jpg: 640x480 1 butterfly, 1 starfish, 7.1ms\n",
      "image 275/481 /home/sl3088/yolov8_suland/dataset/ITA.yolo/test/images/ITA-v2/ITA-v2-345.jpg: 640x480 1 butterfly, 1 starfish, 7.0ms\n",
      "image 276/481 /home/sl3088/yolov8_suland/dataset/ITA.yolo/test/images/ITA-v2/ITA-v2-346.jpg: 640x480 1 butterfly, 1 starfish, 7.1ms\n",
      "image 277/481 /home/sl3088/yolov8_suland/dataset/ITA.yolo/test/images/ITA-v2/ITA-v2-347.jpg: 640x480 1 butterfly, 1 starfish, 7.1ms\n",
      "image 278/481 /home/sl3088/yolov8_suland/dataset/ITA.yolo/test/images/ITA-v2/ITA-v2-348.jpg: 640x480 1 butterfly, 1 starfish, 7.1ms\n",
      "image 279/481 /home/sl3088/yolov8_suland/dataset/ITA.yolo/test/images/ITA-v2/ITA-v2-349.jpg: 640x480 1 butterfly, 1 starfish, 7.0ms\n",
      "image 280/481 /home/sl3088/yolov8_suland/dataset/ITA.yolo/test/images/ITA-v2/ITA-v2-35.jpg: 640x480 1 starfish, 7.0ms\n",
      "image 281/481 /home/sl3088/yolov8_suland/dataset/ITA.yolo/test/images/ITA-v2/ITA-v2-350.jpg: 640x480 1 butterfly, 1 starfish, 7.0ms\n",
      "image 282/481 /home/sl3088/yolov8_suland/dataset/ITA.yolo/test/images/ITA-v2/ITA-v2-351.jpg: 640x480 1 butterfly, 1 starfish, 7.0ms\n",
      "image 283/481 /home/sl3088/yolov8_suland/dataset/ITA.yolo/test/images/ITA-v2/ITA-v2-352.jpg: 640x480 1 butterfly, 1 starfish, 7.1ms\n",
      "image 284/481 /home/sl3088/yolov8_suland/dataset/ITA.yolo/test/images/ITA-v2/ITA-v2-353.jpg: 640x480 1 butterfly, 1 starfish, 7.1ms\n",
      "image 285/481 /home/sl3088/yolov8_suland/dataset/ITA.yolo/test/images/ITA-v2/ITA-v2-354.jpg: 640x480 1 butterfly, 1 starfish, 7.1ms\n",
      "image 286/481 /home/sl3088/yolov8_suland/dataset/ITA.yolo/test/images/ITA-v2/ITA-v2-355.jpg: 640x480 1 butterfly, 1 starfish, 7.0ms\n",
      "image 287/481 /home/sl3088/yolov8_suland/dataset/ITA.yolo/test/images/ITA-v2/ITA-v2-356.jpg: 640x480 1 butterfly, 1 starfish, 7.1ms\n",
      "image 288/481 /home/sl3088/yolov8_suland/dataset/ITA.yolo/test/images/ITA-v2/ITA-v2-357.jpg: 640x480 1 butterfly, 1 starfish, 7.0ms\n",
      "image 289/481 /home/sl3088/yolov8_suland/dataset/ITA.yolo/test/images/ITA-v2/ITA-v2-358.jpg: 640x480 1 butterfly, 1 starfish, 7.1ms\n",
      "image 290/481 /home/sl3088/yolov8_suland/dataset/ITA.yolo/test/images/ITA-v2/ITA-v2-359.jpg: 640x480 1 starfish, 7.1ms\n",
      "image 291/481 /home/sl3088/yolov8_suland/dataset/ITA.yolo/test/images/ITA-v2/ITA-v2-36.jpg: 640x480 1 starfish, 7.1ms\n",
      "image 292/481 /home/sl3088/yolov8_suland/dataset/ITA.yolo/test/images/ITA-v2/ITA-v2-360.jpg: 640x480 1 butterfly, 1 starfish, 7.1ms\n",
      "image 293/481 /home/sl3088/yolov8_suland/dataset/ITA.yolo/test/images/ITA-v2/ITA-v2-361.jpg: 640x480 1 butterfly, 1 starfish, 7.0ms\n",
      "image 294/481 /home/sl3088/yolov8_suland/dataset/ITA.yolo/test/images/ITA-v2/ITA-v2-362.jpg: 640x480 1 butterfly, 1 starfish, 7.0ms\n",
      "image 295/481 /home/sl3088/yolov8_suland/dataset/ITA.yolo/test/images/ITA-v2/ITA-v2-363.jpg: 640x480 1 butterfly, 7.1ms\n",
      "image 296/481 /home/sl3088/yolov8_suland/dataset/ITA.yolo/test/images/ITA-v2/ITA-v2-364.jpg: 640x480 1 butterfly, 7.1ms\n",
      "image 297/481 /home/sl3088/yolov8_suland/dataset/ITA.yolo/test/images/ITA-v2/ITA-v2-365.jpg: 640x480 1 butterfly, 7.1ms\n",
      "image 298/481 /home/sl3088/yolov8_suland/dataset/ITA.yolo/test/images/ITA-v2/ITA-v2-366.jpg: 640x480 1 butterfly, 7.1ms\n",
      "image 299/481 /home/sl3088/yolov8_suland/dataset/ITA.yolo/test/images/ITA-v2/ITA-v2-367.jpg: 640x480 1 butterfly, 7.1ms\n",
      "image 300/481 /home/sl3088/yolov8_suland/dataset/ITA.yolo/test/images/ITA-v2/ITA-v2-368.jpg: 640x480 1 butterfly, 7.0ms\n",
      "image 301/481 /home/sl3088/yolov8_suland/dataset/ITA.yolo/test/images/ITA-v2/ITA-v2-369.jpg: 640x480 1 butterfly, 7.1ms\n",
      "image 302/481 /home/sl3088/yolov8_suland/dataset/ITA.yolo/test/images/ITA-v2/ITA-v2-37.jpg: 640x480 1 starfish, 7.1ms\n",
      "image 303/481 /home/sl3088/yolov8_suland/dataset/ITA.yolo/test/images/ITA-v2/ITA-v2-370.jpg: 640x480 1 butterfly, 7.0ms\n",
      "image 304/481 /home/sl3088/yolov8_suland/dataset/ITA.yolo/test/images/ITA-v2/ITA-v2-371.jpg: 640x480 1 butterfly, 7.0ms\n",
      "image 305/481 /home/sl3088/yolov8_suland/dataset/ITA.yolo/test/images/ITA-v2/ITA-v2-372.jpg: 640x480 1 butterfly, 7.1ms\n",
      "image 306/481 /home/sl3088/yolov8_suland/dataset/ITA.yolo/test/images/ITA-v2/ITA-v2-373.jpg: 640x480 1 butterfly, 7.1ms\n",
      "image 307/481 /home/sl3088/yolov8_suland/dataset/ITA.yolo/test/images/ITA-v2/ITA-v2-374.jpg: 640x480 1 butterfly, 7.1ms\n",
      "image 308/481 /home/sl3088/yolov8_suland/dataset/ITA.yolo/test/images/ITA-v2/ITA-v2-375.jpg: 640x480 1 butterfly, 7.1ms\n",
      "image 309/481 /home/sl3088/yolov8_suland/dataset/ITA.yolo/test/images/ITA-v2/ITA-v2-376.jpg: 640x480 1 butterfly, 7.0ms\n",
      "image 310/481 /home/sl3088/yolov8_suland/dataset/ITA.yolo/test/images/ITA-v2/ITA-v2-377.jpg: 640x480 1 butterfly, 7.1ms\n",
      "image 311/481 /home/sl3088/yolov8_suland/dataset/ITA.yolo/test/images/ITA-v2/ITA-v2-378.jpg: 640x480 1 butterfly, 7.0ms\n",
      "image 312/481 /home/sl3088/yolov8_suland/dataset/ITA.yolo/test/images/ITA-v2/ITA-v2-379.jpg: 640x480 1 butterfly, 7.1ms\n",
      "image 313/481 /home/sl3088/yolov8_suland/dataset/ITA.yolo/test/images/ITA-v2/ITA-v2-38.jpg: 640x480 1 starfish, 7.0ms\n",
      "image 314/481 /home/sl3088/yolov8_suland/dataset/ITA.yolo/test/images/ITA-v2/ITA-v2-380.jpg: 640x480 1 butterfly, 7.1ms\n",
      "image 315/481 /home/sl3088/yolov8_suland/dataset/ITA.yolo/test/images/ITA-v2/ITA-v2-381.jpg: 640x480 1 butterfly, 7.0ms\n",
      "image 316/481 /home/sl3088/yolov8_suland/dataset/ITA.yolo/test/images/ITA-v2/ITA-v2-382.jpg: 640x480 1 butterfly, 7.1ms\n",
      "image 317/481 /home/sl3088/yolov8_suland/dataset/ITA.yolo/test/images/ITA-v2/ITA-v2-383.jpg: 640x480 1 butterfly, 7.1ms\n",
      "image 318/481 /home/sl3088/yolov8_suland/dataset/ITA.yolo/test/images/ITA-v2/ITA-v2-384.jpg: 640x480 1 butterfly, 7.0ms\n",
      "image 319/481 /home/sl3088/yolov8_suland/dataset/ITA.yolo/test/images/ITA-v2/ITA-v2-385.jpg: 640x480 1 butterfly, 7.1ms\n",
      "image 320/481 /home/sl3088/yolov8_suland/dataset/ITA.yolo/test/images/ITA-v2/ITA-v2-386.jpg: 640x480 1 butterfly, 7.0ms\n",
      "image 321/481 /home/sl3088/yolov8_suland/dataset/ITA.yolo/test/images/ITA-v2/ITA-v2-387.jpg: 640x480 1 butterfly, 7.0ms\n",
      "image 322/481 /home/sl3088/yolov8_suland/dataset/ITA.yolo/test/images/ITA-v2/ITA-v2-388.jpg: 640x480 1 butterfly, 7.0ms\n",
      "image 323/481 /home/sl3088/yolov8_suland/dataset/ITA.yolo/test/images/ITA-v2/ITA-v2-389.jpg: 640x480 1 butterfly, 7.1ms\n",
      "image 324/481 /home/sl3088/yolov8_suland/dataset/ITA.yolo/test/images/ITA-v2/ITA-v2-39.jpg: 640x480 1 starfish, 7.1ms\n",
      "image 325/481 /home/sl3088/yolov8_suland/dataset/ITA.yolo/test/images/ITA-v2/ITA-v2-390.jpg: 640x480 1 butterfly, 7.1ms\n",
      "image 326/481 /home/sl3088/yolov8_suland/dataset/ITA.yolo/test/images/ITA-v2/ITA-v2-391.jpg: 640x480 1 butterfly, 7.0ms\n",
      "image 327/481 /home/sl3088/yolov8_suland/dataset/ITA.yolo/test/images/ITA-v2/ITA-v2-392.jpg: 640x480 1 butterfly, 7.0ms\n",
      "image 328/481 /home/sl3088/yolov8_suland/dataset/ITA.yolo/test/images/ITA-v2/ITA-v2-393.jpg: 640x480 1 butterfly, 7.0ms\n",
      "image 329/481 /home/sl3088/yolov8_suland/dataset/ITA.yolo/test/images/ITA-v2/ITA-v2-394.jpg: 640x480 1 butterfly, 7.1ms\n",
      "image 330/481 /home/sl3088/yolov8_suland/dataset/ITA.yolo/test/images/ITA-v2/ITA-v2-395.jpg: 640x480 1 butterfly, 7.1ms\n",
      "image 331/481 /home/sl3088/yolov8_suland/dataset/ITA.yolo/test/images/ITA-v2/ITA-v2-396.jpg: 640x480 1 butterfly, 7.1ms\n",
      "image 332/481 /home/sl3088/yolov8_suland/dataset/ITA.yolo/test/images/ITA-v2/ITA-v2-397.jpg: 640x480 1 butterfly, 7.1ms\n",
      "image 333/481 /home/sl3088/yolov8_suland/dataset/ITA.yolo/test/images/ITA-v2/ITA-v2-398.jpg: 640x480 1 butterfly, 7.1ms\n",
      "image 334/481 /home/sl3088/yolov8_suland/dataset/ITA.yolo/test/images/ITA-v2/ITA-v2-399.jpg: 640x480 1 butterfly, 7.0ms\n",
      "image 335/481 /home/sl3088/yolov8_suland/dataset/ITA.yolo/test/images/ITA-v2/ITA-v2-4.jpg: 640x480 1 butterfly, 1 starfish, 7.0ms\n",
      "image 336/481 /home/sl3088/yolov8_suland/dataset/ITA.yolo/test/images/ITA-v2/ITA-v2-40.jpg: 640x480 1 starfish, 7.0ms\n",
      "image 337/481 /home/sl3088/yolov8_suland/dataset/ITA.yolo/test/images/ITA-v2/ITA-v2-400.jpg: 640x480 1 butterfly, 7.1ms\n",
      "image 338/481 /home/sl3088/yolov8_suland/dataset/ITA.yolo/test/images/ITA-v2/ITA-v2-401.jpg: 640x480 1 butterfly, 7.0ms\n",
      "image 339/481 /home/sl3088/yolov8_suland/dataset/ITA.yolo/test/images/ITA-v2/ITA-v2-402.jpg: 640x480 1 butterfly, 7.1ms\n",
      "image 340/481 /home/sl3088/yolov8_suland/dataset/ITA.yolo/test/images/ITA-v2/ITA-v2-403.jpg: 640x480 (no detections), 7.0ms\n",
      "image 341/481 /home/sl3088/yolov8_suland/dataset/ITA.yolo/test/images/ITA-v2/ITA-v2-404.jpg: 640x480 (no detections), 7.1ms\n",
      "image 342/481 /home/sl3088/yolov8_suland/dataset/ITA.yolo/test/images/ITA-v2/ITA-v2-405.jpg: 640x480 (no detections), 7.1ms\n",
      "image 343/481 /home/sl3088/yolov8_suland/dataset/ITA.yolo/test/images/ITA-v2/ITA-v2-406.jpg: 640x480 (no detections), 9.2ms\n",
      "image 344/481 /home/sl3088/yolov8_suland/dataset/ITA.yolo/test/images/ITA-v2/ITA-v2-407.jpg: 640x480 (no detections), 9.2ms\n",
      "image 345/481 /home/sl3088/yolov8_suland/dataset/ITA.yolo/test/images/ITA-v2/ITA-v2-408.jpg: 640x480 (no detections), 7.0ms\n",
      "image 346/481 /home/sl3088/yolov8_suland/dataset/ITA.yolo/test/images/ITA-v2/ITA-v2-409.jpg: 640x480 (no detections), 7.6ms\n",
      "image 347/481 /home/sl3088/yolov8_suland/dataset/ITA.yolo/test/images/ITA-v2/ITA-v2-41.jpg: 640x480 1 starfish, 7.0ms\n",
      "image 348/481 /home/sl3088/yolov8_suland/dataset/ITA.yolo/test/images/ITA-v2/ITA-v2-410.jpg: 640x480 (no detections), 7.0ms\n",
      "image 349/481 /home/sl3088/yolov8_suland/dataset/ITA.yolo/test/images/ITA-v2/ITA-v2-411.jpg: 640x480 (no detections), 7.0ms\n",
      "image 350/481 /home/sl3088/yolov8_suland/dataset/ITA.yolo/test/images/ITA-v2/ITA-v2-412.jpg: 640x480 (no detections), 7.0ms\n",
      "image 351/481 /home/sl3088/yolov8_suland/dataset/ITA.yolo/test/images/ITA-v2/ITA-v2-413.jpg: 640x480 (no detections), 7.1ms\n",
      "image 352/481 /home/sl3088/yolov8_suland/dataset/ITA.yolo/test/images/ITA-v2/ITA-v2-414.jpg: 640x480 (no detections), 7.0ms\n",
      "image 353/481 /home/sl3088/yolov8_suland/dataset/ITA.yolo/test/images/ITA-v2/ITA-v2-415.jpg: 640x480 (no detections), 7.0ms\n",
      "image 354/481 /home/sl3088/yolov8_suland/dataset/ITA.yolo/test/images/ITA-v2/ITA-v2-416.jpg: 640x480 (no detections), 7.0ms\n",
      "image 355/481 /home/sl3088/yolov8_suland/dataset/ITA.yolo/test/images/ITA-v2/ITA-v2-417.jpg: 640x480 (no detections), 7.0ms\n",
      "image 356/481 /home/sl3088/yolov8_suland/dataset/ITA.yolo/test/images/ITA-v2/ITA-v2-418.jpg: 640x480 (no detections), 7.1ms\n",
      "image 357/481 /home/sl3088/yolov8_suland/dataset/ITA.yolo/test/images/ITA-v2/ITA-v2-419.jpg: 640x480 (no detections), 7.1ms\n",
      "image 358/481 /home/sl3088/yolov8_suland/dataset/ITA.yolo/test/images/ITA-v2/ITA-v2-42.jpg: 640x480 1 starfish, 7.1ms\n",
      "image 359/481 /home/sl3088/yolov8_suland/dataset/ITA.yolo/test/images/ITA-v2/ITA-v2-420.jpg: 640x480 (no detections), 7.0ms\n",
      "image 360/481 /home/sl3088/yolov8_suland/dataset/ITA.yolo/test/images/ITA-v2/ITA-v2-421.jpg: 640x480 (no detections), 7.0ms\n",
      "image 361/481 /home/sl3088/yolov8_suland/dataset/ITA.yolo/test/images/ITA-v2/ITA-v2-422.jpg: 640x480 (no detections), 7.1ms\n",
      "image 362/481 /home/sl3088/yolov8_suland/dataset/ITA.yolo/test/images/ITA-v2/ITA-v2-423.jpg: 640x480 (no detections), 7.1ms\n",
      "image 363/481 /home/sl3088/yolov8_suland/dataset/ITA.yolo/test/images/ITA-v2/ITA-v2-424.jpg: 640x480 (no detections), 7.1ms\n",
      "image 364/481 /home/sl3088/yolov8_suland/dataset/ITA.yolo/test/images/ITA-v2/ITA-v2-425.jpg: 640x480 (no detections), 7.1ms\n",
      "image 365/481 /home/sl3088/yolov8_suland/dataset/ITA.yolo/test/images/ITA-v2/ITA-v2-426.jpg: 640x480 (no detections), 7.1ms\n",
      "image 366/481 /home/sl3088/yolov8_suland/dataset/ITA.yolo/test/images/ITA-v2/ITA-v2-427.jpg: 640x480 (no detections), 7.1ms\n",
      "image 367/481 /home/sl3088/yolov8_suland/dataset/ITA.yolo/test/images/ITA-v2/ITA-v2-428.jpg: 640x480 (no detections), 7.0ms\n",
      "image 368/481 /home/sl3088/yolov8_suland/dataset/ITA.yolo/test/images/ITA-v2/ITA-v2-429.jpg: 640x480 (no detections), 7.1ms\n",
      "image 369/481 /home/sl3088/yolov8_suland/dataset/ITA.yolo/test/images/ITA-v2/ITA-v2-43.jpg: 640x480 1 starfish, 7.0ms\n",
      "image 370/481 /home/sl3088/yolov8_suland/dataset/ITA.yolo/test/images/ITA-v2/ITA-v2-430.jpg: 640x480 (no detections), 7.0ms\n",
      "image 371/481 /home/sl3088/yolov8_suland/dataset/ITA.yolo/test/images/ITA-v2/ITA-v2-431.jpg: 640x480 (no detections), 7.1ms\n",
      "image 372/481 /home/sl3088/yolov8_suland/dataset/ITA.yolo/test/images/ITA-v2/ITA-v2-432.jpg: 640x480 (no detections), 7.0ms\n",
      "image 373/481 /home/sl3088/yolov8_suland/dataset/ITA.yolo/test/images/ITA-v2/ITA-v2-433.jpg: 640x480 (no detections), 7.0ms\n",
      "image 374/481 /home/sl3088/yolov8_suland/dataset/ITA.yolo/test/images/ITA-v2/ITA-v2-434.jpg: 640x480 (no detections), 7.1ms\n",
      "image 375/481 /home/sl3088/yolov8_suland/dataset/ITA.yolo/test/images/ITA-v2/ITA-v2-435.jpg: 640x480 (no detections), 7.1ms\n",
      "image 376/481 /home/sl3088/yolov8_suland/dataset/ITA.yolo/test/images/ITA-v2/ITA-v2-436.jpg: 640x480 (no detections), 7.1ms\n",
      "image 377/481 /home/sl3088/yolov8_suland/dataset/ITA.yolo/test/images/ITA-v2/ITA-v2-437.jpg: 640x480 (no detections), 7.1ms\n",
      "image 378/481 /home/sl3088/yolov8_suland/dataset/ITA.yolo/test/images/ITA-v2/ITA-v2-438.jpg: 640x480 (no detections), 7.0ms\n",
      "image 379/481 /home/sl3088/yolov8_suland/dataset/ITA.yolo/test/images/ITA-v2/ITA-v2-439.jpg: 640x480 (no detections), 7.0ms\n",
      "image 380/481 /home/sl3088/yolov8_suland/dataset/ITA.yolo/test/images/ITA-v2/ITA-v2-44.jpg: 640x480 1 starfish, 7.0ms\n",
      "image 381/481 /home/sl3088/yolov8_suland/dataset/ITA.yolo/test/images/ITA-v2/ITA-v2-440.jpg: 640x480 (no detections), 7.1ms\n",
      "image 382/481 /home/sl3088/yolov8_suland/dataset/ITA.yolo/test/images/ITA-v2/ITA-v2-441.jpg: 640x480 (no detections), 7.0ms\n",
      "image 383/481 /home/sl3088/yolov8_suland/dataset/ITA.yolo/test/images/ITA-v2/ITA-v2-442.jpg: 640x480 (no detections), 7.0ms\n",
      "image 384/481 /home/sl3088/yolov8_suland/dataset/ITA.yolo/test/images/ITA-v2/ITA-v2-443.jpg: 640x480 (no detections), 7.1ms\n",
      "image 385/481 /home/sl3088/yolov8_suland/dataset/ITA.yolo/test/images/ITA-v2/ITA-v2-444.jpg: 640x480 (no detections), 7.0ms\n",
      "image 386/481 /home/sl3088/yolov8_suland/dataset/ITA.yolo/test/images/ITA-v2/ITA-v2-445.jpg: 640x480 (no detections), 7.1ms\n",
      "image 387/481 /home/sl3088/yolov8_suland/dataset/ITA.yolo/test/images/ITA-v2/ITA-v2-446.jpg: 640x480 (no detections), 7.1ms\n",
      "image 388/481 /home/sl3088/yolov8_suland/dataset/ITA.yolo/test/images/ITA-v2/ITA-v2-447.jpg: 640x480 (no detections), 7.1ms\n",
      "image 389/481 /home/sl3088/yolov8_suland/dataset/ITA.yolo/test/images/ITA-v2/ITA-v2-448.jpg: 640x480 (no detections), 7.0ms\n",
      "image 390/481 /home/sl3088/yolov8_suland/dataset/ITA.yolo/test/images/ITA-v2/ITA-v2-449.jpg: 640x480 (no detections), 7.1ms\n",
      "image 391/481 /home/sl3088/yolov8_suland/dataset/ITA.yolo/test/images/ITA-v2/ITA-v2-45.jpg: 640x480 1 starfish, 7.0ms\n",
      "image 392/481 /home/sl3088/yolov8_suland/dataset/ITA.yolo/test/images/ITA-v2/ITA-v2-450.jpg: 640x480 (no detections), 7.1ms\n",
      "image 393/481 /home/sl3088/yolov8_suland/dataset/ITA.yolo/test/images/ITA-v2/ITA-v2-451.jpg: 640x480 (no detections), 9.2ms\n",
      "image 394/481 /home/sl3088/yolov8_suland/dataset/ITA.yolo/test/images/ITA-v2/ITA-v2-452.jpg: 640x480 (no detections), 7.0ms\n",
      "image 395/481 /home/sl3088/yolov8_suland/dataset/ITA.yolo/test/images/ITA-v2/ITA-v2-453.jpg: 640x480 (no detections), 7.0ms\n",
      "image 396/481 /home/sl3088/yolov8_suland/dataset/ITA.yolo/test/images/ITA-v2/ITA-v2-454.jpg: 640x480 (no detections), 7.0ms\n",
      "image 397/481 /home/sl3088/yolov8_suland/dataset/ITA.yolo/test/images/ITA-v2/ITA-v2-455.jpg: 640x480 (no detections), 7.1ms\n",
      "image 398/481 /home/sl3088/yolov8_suland/dataset/ITA.yolo/test/images/ITA-v2/ITA-v2-456.jpg: 640x480 (no detections), 7.0ms\n",
      "image 399/481 /home/sl3088/yolov8_suland/dataset/ITA.yolo/test/images/ITA-v2/ITA-v2-457.jpg: 640x480 (no detections), 7.1ms\n",
      "image 400/481 /home/sl3088/yolov8_suland/dataset/ITA.yolo/test/images/ITA-v2/ITA-v2-458.jpg: 640x480 (no detections), 7.0ms\n",
      "image 401/481 /home/sl3088/yolov8_suland/dataset/ITA.yolo/test/images/ITA-v2/ITA-v2-459.jpg: 640x480 (no detections), 7.1ms\n",
      "image 402/481 /home/sl3088/yolov8_suland/dataset/ITA.yolo/test/images/ITA-v2/ITA-v2-46.jpg: 640x480 1 starfish, 7.0ms\n",
      "image 403/481 /home/sl3088/yolov8_suland/dataset/ITA.yolo/test/images/ITA-v2/ITA-v2-460.jpg: 640x480 (no detections), 7.0ms\n",
      "image 404/481 /home/sl3088/yolov8_suland/dataset/ITA.yolo/test/images/ITA-v2/ITA-v2-461.jpg: 640x480 (no detections), 7.1ms\n",
      "image 405/481 /home/sl3088/yolov8_suland/dataset/ITA.yolo/test/images/ITA-v2/ITA-v2-462.jpg: 640x480 (no detections), 7.0ms\n",
      "image 406/481 /home/sl3088/yolov8_suland/dataset/ITA.yolo/test/images/ITA-v2/ITA-v2-463.jpg: 640x480 (no detections), 7.1ms\n",
      "image 407/481 /home/sl3088/yolov8_suland/dataset/ITA.yolo/test/images/ITA-v2/ITA-v2-464.jpg: 640x480 (no detections), 7.0ms\n",
      "image 408/481 /home/sl3088/yolov8_suland/dataset/ITA.yolo/test/images/ITA-v2/ITA-v2-465.jpg: 640x480 (no detections), 7.1ms\n",
      "image 409/481 /home/sl3088/yolov8_suland/dataset/ITA.yolo/test/images/ITA-v2/ITA-v2-466.jpg: 640x480 (no detections), 7.0ms\n",
      "image 410/481 /home/sl3088/yolov8_suland/dataset/ITA.yolo/test/images/ITA-v2/ITA-v2-467.jpg: 640x480 (no detections), 7.1ms\n",
      "image 411/481 /home/sl3088/yolov8_suland/dataset/ITA.yolo/test/images/ITA-v2/ITA-v2-468.jpg: 640x480 (no detections), 7.0ms\n",
      "image 412/481 /home/sl3088/yolov8_suland/dataset/ITA.yolo/test/images/ITA-v2/ITA-v2-469.jpg: 640x480 (no detections), 7.1ms\n",
      "image 413/481 /home/sl3088/yolov8_suland/dataset/ITA.yolo/test/images/ITA-v2/ITA-v2-47.jpg: 640x480 1 starfish, 7.0ms\n",
      "image 414/481 /home/sl3088/yolov8_suland/dataset/ITA.yolo/test/images/ITA-v2/ITA-v2-470.jpg: 640x480 (no detections), 7.1ms\n",
      "image 415/481 /home/sl3088/yolov8_suland/dataset/ITA.yolo/test/images/ITA-v2/ITA-v2-471.jpg: 640x480 (no detections), 7.0ms\n",
      "image 416/481 /home/sl3088/yolov8_suland/dataset/ITA.yolo/test/images/ITA-v2/ITA-v2-472.jpg: 640x480 (no detections), 7.1ms\n",
      "image 417/481 /home/sl3088/yolov8_suland/dataset/ITA.yolo/test/images/ITA-v2/ITA-v2-473.jpg: 640x480 (no detections), 7.1ms\n",
      "image 418/481 /home/sl3088/yolov8_suland/dataset/ITA.yolo/test/images/ITA-v2/ITA-v2-474.jpg: 640x480 (no detections), 7.1ms\n",
      "image 419/481 /home/sl3088/yolov8_suland/dataset/ITA.yolo/test/images/ITA-v2/ITA-v2-475.jpg: 640x480 (no detections), 7.1ms\n",
      "image 420/481 /home/sl3088/yolov8_suland/dataset/ITA.yolo/test/images/ITA-v2/ITA-v2-476.jpg: 640x480 (no detections), 7.0ms\n",
      "image 421/481 /home/sl3088/yolov8_suland/dataset/ITA.yolo/test/images/ITA-v2/ITA-v2-477.jpg: 640x480 (no detections), 7.1ms\n",
      "image 422/481 /home/sl3088/yolov8_suland/dataset/ITA.yolo/test/images/ITA-v2/ITA-v2-478.jpg: 640x480 (no detections), 7.0ms\n",
      "image 423/481 /home/sl3088/yolov8_suland/dataset/ITA.yolo/test/images/ITA-v2/ITA-v2-479.jpg: 640x480 (no detections), 7.1ms\n",
      "image 424/481 /home/sl3088/yolov8_suland/dataset/ITA.yolo/test/images/ITA-v2/ITA-v2-48.jpg: 640x480 (no detections), 7.1ms\n",
      "image 425/481 /home/sl3088/yolov8_suland/dataset/ITA.yolo/test/images/ITA-v2/ITA-v2-480.jpg: 640x480 (no detections), 7.1ms\n",
      "image 426/481 /home/sl3088/yolov8_suland/dataset/ITA.yolo/test/images/ITA-v2/ITA-v2-49.jpg: 640x480 1 starfish, 7.0ms\n",
      "image 427/481 /home/sl3088/yolov8_suland/dataset/ITA.yolo/test/images/ITA-v2/ITA-v2-5.jpg: 640x480 1 butterfly, 1 starfish, 7.1ms\n",
      "image 428/481 /home/sl3088/yolov8_suland/dataset/ITA.yolo/test/images/ITA-v2/ITA-v2-50.jpg: 640x480 (no detections), 7.1ms\n",
      "image 429/481 /home/sl3088/yolov8_suland/dataset/ITA.yolo/test/images/ITA-v2/ITA-v2-51.jpg: 640x480 (no detections), 7.1ms\n",
      "image 430/481 /home/sl3088/yolov8_suland/dataset/ITA.yolo/test/images/ITA-v2/ITA-v2-52.jpg: 640x480 (no detections), 7.1ms\n",
      "image 431/481 /home/sl3088/yolov8_suland/dataset/ITA.yolo/test/images/ITA-v2/ITA-v2-53.jpg: 640x480 1 starfish, 7.0ms\n",
      "image 432/481 /home/sl3088/yolov8_suland/dataset/ITA.yolo/test/images/ITA-v2/ITA-v2-54.jpg: 640x480 1 starfish, 7.0ms\n",
      "image 433/481 /home/sl3088/yolov8_suland/dataset/ITA.yolo/test/images/ITA-v2/ITA-v2-55.jpg: 640x480 1 starfish, 7.1ms\n",
      "image 434/481 /home/sl3088/yolov8_suland/dataset/ITA.yolo/test/images/ITA-v2/ITA-v2-56.jpg: 640x480 1 starfish, 7.0ms\n",
      "image 435/481 /home/sl3088/yolov8_suland/dataset/ITA.yolo/test/images/ITA-v2/ITA-v2-57.jpg: 640x480 1 starfish, 7.1ms\n",
      "image 436/481 /home/sl3088/yolov8_suland/dataset/ITA.yolo/test/images/ITA-v2/ITA-v2-58.jpg: 640x480 (no detections), 7.0ms\n",
      "image 437/481 /home/sl3088/yolov8_suland/dataset/ITA.yolo/test/images/ITA-v2/ITA-v2-59.jpg: 640x480 (no detections), 7.1ms\n",
      "image 438/481 /home/sl3088/yolov8_suland/dataset/ITA.yolo/test/images/ITA-v2/ITA-v2-6.jpg: 640x480 1 butterfly, 1 starfish, 7.1ms\n",
      "image 439/481 /home/sl3088/yolov8_suland/dataset/ITA.yolo/test/images/ITA-v2/ITA-v2-60.jpg: 640x480 1 starfish, 7.1ms\n",
      "image 440/481 /home/sl3088/yolov8_suland/dataset/ITA.yolo/test/images/ITA-v2/ITA-v2-61.jpg: 640x480 1 starfish, 7.1ms\n",
      "image 441/481 /home/sl3088/yolov8_suland/dataset/ITA.yolo/test/images/ITA-v2/ITA-v2-62.jpg: 640x480 1 starfish, 7.1ms\n",
      "image 442/481 /home/sl3088/yolov8_suland/dataset/ITA.yolo/test/images/ITA-v2/ITA-v2-63.jpg: 640x480 1 starfish, 7.1ms\n",
      "image 443/481 /home/sl3088/yolov8_suland/dataset/ITA.yolo/test/images/ITA-v2/ITA-v2-64.jpg: 640x480 1 starfish, 7.1ms\n",
      "image 444/481 /home/sl3088/yolov8_suland/dataset/ITA.yolo/test/images/ITA-v2/ITA-v2-65.jpg: 640x480 1 starfish, 7.1ms\n",
      "image 445/481 /home/sl3088/yolov8_suland/dataset/ITA.yolo/test/images/ITA-v2/ITA-v2-66.jpg: 640x480 (no detections), 7.1ms\n",
      "image 446/481 /home/sl3088/yolov8_suland/dataset/ITA.yolo/test/images/ITA-v2/ITA-v2-67.jpg: 640x480 (no detections), 7.1ms\n",
      "image 447/481 /home/sl3088/yolov8_suland/dataset/ITA.yolo/test/images/ITA-v2/ITA-v2-68.jpg: 640x480 (no detections), 7.1ms\n",
      "image 448/481 /home/sl3088/yolov8_suland/dataset/ITA.yolo/test/images/ITA-v2/ITA-v2-69.jpg: 640x480 (no detections), 7.0ms\n",
      "image 449/481 /home/sl3088/yolov8_suland/dataset/ITA.yolo/test/images/ITA-v2/ITA-v2-7.jpg: 640x480 1 butterfly, 1 starfish, 7.1ms\n",
      "image 450/481 /home/sl3088/yolov8_suland/dataset/ITA.yolo/test/images/ITA-v2/ITA-v2-70.jpg: 640x480 (no detections), 7.0ms\n",
      "image 451/481 /home/sl3088/yolov8_suland/dataset/ITA.yolo/test/images/ITA-v2/ITA-v2-71.jpg: 640x480 (no detections), 7.0ms\n",
      "image 452/481 /home/sl3088/yolov8_suland/dataset/ITA.yolo/test/images/ITA-v2/ITA-v2-72.jpg: 640x480 (no detections), 7.1ms\n",
      "image 453/481 /home/sl3088/yolov8_suland/dataset/ITA.yolo/test/images/ITA-v2/ITA-v2-73.jpg: 640x480 (no detections), 7.0ms\n",
      "image 454/481 /home/sl3088/yolov8_suland/dataset/ITA.yolo/test/images/ITA-v2/ITA-v2-74.jpg: 640x480 (no detections), 7.1ms\n",
      "image 455/481 /home/sl3088/yolov8_suland/dataset/ITA.yolo/test/images/ITA-v2/ITA-v2-75.jpg: 640x480 (no detections), 7.0ms\n",
      "image 456/481 /home/sl3088/yolov8_suland/dataset/ITA.yolo/test/images/ITA-v2/ITA-v2-76.jpg: 640x480 (no detections), 7.1ms\n",
      "image 457/481 /home/sl3088/yolov8_suland/dataset/ITA.yolo/test/images/ITA-v2/ITA-v2-77.jpg: 640x480 (no detections), 7.0ms\n",
      "image 458/481 /home/sl3088/yolov8_suland/dataset/ITA.yolo/test/images/ITA-v2/ITA-v2-78.jpg: 640x480 (no detections), 7.1ms\n",
      "image 459/481 /home/sl3088/yolov8_suland/dataset/ITA.yolo/test/images/ITA-v2/ITA-v2-79.jpg: 640x480 (no detections), 7.1ms\n",
      "image 460/481 /home/sl3088/yolov8_suland/dataset/ITA.yolo/test/images/ITA-v2/ITA-v2-8.jpg: 640x480 1 butterfly, 1 starfish, 7.1ms\n",
      "image 461/481 /home/sl3088/yolov8_suland/dataset/ITA.yolo/test/images/ITA-v2/ITA-v2-80.jpg: 640x480 (no detections), 7.0ms\n",
      "image 462/481 /home/sl3088/yolov8_suland/dataset/ITA.yolo/test/images/ITA-v2/ITA-v2-81.jpg: 640x480 (no detections), 7.0ms\n",
      "image 463/481 /home/sl3088/yolov8_suland/dataset/ITA.yolo/test/images/ITA-v2/ITA-v2-82.jpg: 640x480 (no detections), 7.1ms\n",
      "image 464/481 /home/sl3088/yolov8_suland/dataset/ITA.yolo/test/images/ITA-v2/ITA-v2-83.jpg: 640x480 (no detections), 7.1ms\n",
      "image 465/481 /home/sl3088/yolov8_suland/dataset/ITA.yolo/test/images/ITA-v2/ITA-v2-84.jpg: 640x480 (no detections), 7.0ms\n",
      "image 466/481 /home/sl3088/yolov8_suland/dataset/ITA.yolo/test/images/ITA-v2/ITA-v2-85.jpg: 640x480 (no detections), 7.1ms\n",
      "image 467/481 /home/sl3088/yolov8_suland/dataset/ITA.yolo/test/images/ITA-v2/ITA-v2-86.jpg: 640x480 (no detections), 7.0ms\n",
      "image 468/481 /home/sl3088/yolov8_suland/dataset/ITA.yolo/test/images/ITA-v2/ITA-v2-87.jpg: 640x480 (no detections), 7.1ms\n",
      "image 469/481 /home/sl3088/yolov8_suland/dataset/ITA.yolo/test/images/ITA-v2/ITA-v2-88.jpg: 640x480 (no detections), 7.0ms\n",
      "image 470/481 /home/sl3088/yolov8_suland/dataset/ITA.yolo/test/images/ITA-v2/ITA-v2-89.jpg: 640x480 (no detections), 7.1ms\n",
      "image 471/481 /home/sl3088/yolov8_suland/dataset/ITA.yolo/test/images/ITA-v2/ITA-v2-9.jpg: 640x480 1 butterfly, 1 starfish, 7.0ms\n",
      "image 472/481 /home/sl3088/yolov8_suland/dataset/ITA.yolo/test/images/ITA-v2/ITA-v2-90.jpg: 640x480 (no detections), 7.1ms\n",
      "image 473/481 /home/sl3088/yolov8_suland/dataset/ITA.yolo/test/images/ITA-v2/ITA-v2-91.jpg: 640x480 (no detections), 7.0ms\n",
      "image 474/481 /home/sl3088/yolov8_suland/dataset/ITA.yolo/test/images/ITA-v2/ITA-v2-92.jpg: 640x480 (no detections), 7.0ms\n",
      "image 475/481 /home/sl3088/yolov8_suland/dataset/ITA.yolo/test/images/ITA-v2/ITA-v2-93.jpg: 640x480 (no detections), 7.1ms\n",
      "image 476/481 /home/sl3088/yolov8_suland/dataset/ITA.yolo/test/images/ITA-v2/ITA-v2-94.jpg: 640x480 (no detections), 7.0ms\n",
      "image 477/481 /home/sl3088/yolov8_suland/dataset/ITA.yolo/test/images/ITA-v2/ITA-v2-95.jpg: 640x480 (no detections), 7.1ms\n",
      "image 478/481 /home/sl3088/yolov8_suland/dataset/ITA.yolo/test/images/ITA-v2/ITA-v2-96.jpg: 640x480 (no detections), 7.1ms\n",
      "image 479/481 /home/sl3088/yolov8_suland/dataset/ITA.yolo/test/images/ITA-v2/ITA-v2-97.jpg: 640x480 (no detections), 7.1ms\n",
      "image 480/481 /home/sl3088/yolov8_suland/dataset/ITA.yolo/test/images/ITA-v2/ITA-v2-98.jpg: 640x480 (no detections), 7.1ms\n",
      "image 481/481 /home/sl3088/yolov8_suland/dataset/ITA.yolo/test/images/ITA-v2/ITA-v2-99.jpg: 640x480 (no detections), 7.0ms\n",
      "Speed: 3.0ms preprocess, 7.1ms inference, 0.8ms postprocess per image at shape (1, 3, 640, 480)\n",
      "Results saved to \u001b[1mruns/detect/predict\u001b[0m\n"
     ]
    }
   ],
   "source": [
    "# #Predicts on the test set.\n",
    "# results = model.predict(source = 'dataset/ITA.yolo/test/images/ITA-v2', save = True)"
   ]
  },
  {
   "cell_type": "code",
   "execution_count": 5,
   "metadata": {},
   "outputs": [
    {
     "name": "stdout",
     "output_type": "stream",
     "text": [
      "------\n"
     ]
    }
   ],
   "source": [
    "print(\"------\")"
   ]
  },
  {
   "cell_type": "code",
   "execution_count": null,
   "metadata": {},
   "outputs": [
    {
     "name": "stdout",
     "output_type": "stream",
     "text": [
      "Ultralytics YOLOv8.2.34 🚀 Python-3.11.11 torch-2.5.1+cu124 CUDA:0 (Tesla P40, 22906MiB)\n"
     ]
    },
    {
     "name": "stderr",
     "output_type": "stream",
     "text": [
      "\u001b[34m\u001b[1mval: \u001b[0mScanning /home/sl3088/yolov8_suland/dataset/USA.yolo/val/labels/US1... 4435 images, 909 backgrounds, 0 corrupt: 100%|██████████| 4436/4436 [01:10<00:00, 62.61it/s] \n"
     ]
    },
    {
     "name": "stdout",
     "output_type": "stream",
     "text": [
      "\u001b[34m\u001b[1mval: \u001b[0mNew cache created: /home/sl3088/yolov8_suland/dataset/USA.yolo/val/labels/US1.cache\n"
     ]
    },
    {
     "name": "stderr",
     "output_type": "stream",
     "text": [
      "                 Class     Images  Instances      Box(P          R      mAP50  mAP50-95): 100%|██████████| 278/278 [02:53<00:00,  1.60it/s]\n"
     ]
    },
    {
     "name": "stdout",
     "output_type": "stream",
     "text": [
      "                   all       4436       3787      0.158      0.199      0.106     0.0549\n",
      "             butterfly       1344       1387      0.292      0.394      0.177      0.087\n",
      "              starfish       2301       2400     0.0243    0.00333     0.0347     0.0227\n",
      "Speed: 0.2ms preprocess, 4.8ms inference, 0.0ms loss, 0.4ms postprocess per image\n",
      "Results saved to \u001b[1mruns/detect/val10\u001b[0m\n"
     ]
    }
   ],
   "source": [
    "# # Evaluate the model in OOD data. \n",
    "# metrics = model.val(data = \"dataset/USA.yolo/USA.yaml\")   "
   ]
  },
  {
   "cell_type": "code",
   "execution_count": null,
   "metadata": {},
   "outputs": [],
   "source": []
  },
  {
   "cell_type": "code",
   "execution_count": null,
   "metadata": {},
   "outputs": [
    {
     "name": "stdout",
     "output_type": "stream",
     "text": [
      "Ultralytics YOLOv8.2.34 🚀 Python-3.11.11 torch-2.5.1+cu124 CUDA:0 (Tesla P40, 22906MiB)\n"
     ]
    },
    {
     "name": "stderr",
     "output_type": "stream",
     "text": [
      "\u001b[34m\u001b[1mval: \u001b[0mScanning /home/sl3088/yolov8_suland/dataset/USA_modified.yolo/val/labels/US1... 4435 images, 909 backgrounds, 0 corrupt: 100%|██████████| 4436/4436 [00:05<00:00, 789.61it/s]\n"
     ]
    },
    {
     "name": "stdout",
     "output_type": "stream",
     "text": [
      "\u001b[34m\u001b[1mval: \u001b[0mNew cache created: /home/sl3088/yolov8_suland/dataset/USA_modified.yolo/val/labels/US1.cache\n"
     ]
    },
    {
     "name": "stderr",
     "output_type": "stream",
     "text": [
      "                 Class     Images  Instances      Box(P          R      mAP50  mAP50-95): 100%|██████████| 278/278 [02:52<00:00,  1.61it/s]\n"
     ]
    },
    {
     "name": "stdout",
     "output_type": "stream",
     "text": [
      "                   all       4436       3787      0.594      0.264      0.324      0.177\n",
      "             butterfly       2301       2400      0.453      0.353      0.354      0.212\n",
      "              starfish       1344       1387      0.735      0.174      0.293      0.142\n",
      "Speed: 0.2ms preprocess, 4.8ms inference, 0.0ms loss, 0.4ms postprocess per image\n",
      "Results saved to \u001b[1mruns/detect/val11\u001b[0m\n"
     ]
    }
   ],
   "source": [
    "# Evaluate the model in OOD data. \n",
    "# metrics = model.val(data = \"dataset/USA_modified.yolo/USA.yaml\")   # "
   ]
  },
  {
   "cell_type": "code",
   "execution_count": 15,
   "metadata": {},
   "outputs": [
    {
     "name": "stdout",
     "output_type": "stream",
     "text": [
      "Ultralytics YOLOv8.2.34 🚀 Python-3.11.11 torch-2.5.1+cu124 CUDA:0 (Tesla P40, 22906MiB)\n"
     ]
    },
    {
     "name": "stderr",
     "output_type": "stream",
     "text": [
      "\u001b[34m\u001b[1mval: \u001b[0mScanning /home/sl3088/yolov8_suland/dataset/ITA.yolo/val/labels/ITA-v15.cache... 2611 images, 2269 backgrounds, 0 corrupt: 100%|██████████| 2836/2836 [00:00<?, ?it/s]\n",
      "                 Class     Images  Instances      Box(P          R      mAP50  mAP50-95): 100%|██████████| 178/178 [01:47<00:00,  1.65it/s]\n"
     ]
    },
    {
     "name": "stdout",
     "output_type": "stream",
     "text": [
      "                   all       2836        654      0.791      0.639      0.687      0.315\n",
      "             butterfly        352        352      0.803      0.731      0.767      0.322\n",
      "              starfish        302        302       0.78      0.546      0.606      0.308\n",
      "Speed: 0.2ms preprocess, 4.8ms inference, 0.0ms loss, 0.3ms postprocess per image\n",
      "Saving runs/detect/val12/predictions.json...\n",
      "Results saved to \u001b[1mruns/detect/val12\u001b[0m\n"
     ]
    }
   ],
   "source": [
    "#Try on IID, val data, with a different threshold.\n",
    "metrics = model.val(data = \"dataset/ITA.yolo/ITA.yaml\", iou = 0.5, save_json=True)"
   ]
  },
  {
   "cell_type": "code",
   "execution_count": 9,
   "metadata": {},
   "outputs": [
    {
     "name": "stdout",
     "output_type": "stream",
     "text": [
      "OM\n"
     ]
    }
   ],
   "source": [
    "print(\"OM\")"
   ]
  },
  {
   "cell_type": "code",
   "execution_count": 10,
   "metadata": {},
   "outputs": [
    {
     "name": "stdout",
     "output_type": "stream",
     "text": [
      "Ultralytics YOLOv8.2.34 🚀 Python-3.11.11 torch-2.5.1+cu124 CUDA:0 (Tesla P40, 22906MiB)\n",
      "Model summary (fused): 168 layers, 11126358 parameters, 0 gradients\n"
     ]
    },
    {
     "name": "stderr",
     "output_type": "stream",
     "text": [
      "\u001b[34m\u001b[1mval: \u001b[0mScanning /home/sl3088/yolov8_suland/dataset/ITA.yolo/test/labels/ITA-v10.cache... 3743 images, 2904 backgrounds, 0 corrupt: 100%|██████████| 3743/3743 [00:00<?, ?it/s]\n",
      "                 Class     Images  Instances      Box(P          R      mAP50  mAP50-95): 100%|██████████| 234/234 [02:31<00:00,  1.55it/s]\n"
     ]
    },
    {
     "name": "stdout",
     "output_type": "stream",
     "text": [
      "                   all       3743        892      0.741      0.655      0.689      0.295\n",
      "             butterfly        457        457      0.772      0.641      0.684      0.283\n",
      "              starfish        435        435       0.71      0.669      0.694      0.307\n",
      "Speed: 0.2ms preprocess, 4.8ms inference, 0.0ms loss, 0.4ms postprocess per image\n",
      "Results saved to \u001b[1mruns/detect/val13\u001b[0m\n"
     ]
    }
   ],
   "source": [
    "# IID data \"test\" samples. \n",
    "metrics = model.val(data = \"dataset/ITA.yolo/ITA.yaml\", split = \"test\")"
   ]
  },
  {
   "cell_type": "code",
   "execution_count": 11,
   "metadata": {},
   "outputs": [
    {
     "name": "stdout",
     "output_type": "stream",
     "text": [
      "Ultralytics YOLOv8.2.34 🚀 Python-3.11.11 torch-2.5.1+cu124 CUDA:0 (Tesla P40, 22906MiB)\n"
     ]
    },
    {
     "name": "stderr",
     "output_type": "stream",
     "text": [
      "\u001b[34m\u001b[1mval: \u001b[0mScanning /home/sl3088/yolov8_suland/dataset/USA_modified.yolo/val/labels/US1.cache... 4435 images, 909 backgrounds, 0 corrupt: 100%|██████████| 4436/4436 [00:00<?, ?it/s]\n",
      "                 Class     Images  Instances      Box(P          R      mAP50  mAP50-95): 100%|██████████| 278/278 [03:04<00:00,  1.51it/s]\n"
     ]
    },
    {
     "name": "stdout",
     "output_type": "stream",
     "text": [
      "                   all       4436       3787      0.626      0.349      0.425      0.238\n",
      "             butterfly       2301       2400      0.578      0.396      0.429      0.261\n",
      "              starfish       1344       1387      0.674      0.302      0.421      0.215\n",
      "Speed: 0.2ms preprocess, 4.8ms inference, 0.0ms loss, 0.3ms postprocess per image\n",
      "Results saved to \u001b[1mruns/detect/val14\u001b[0m\n"
     ]
    }
   ],
   "source": [
    "# OOD data (USA_modified). \n",
    "metrics = model.val(data = \"dataset/USA_modified.yolo/USA.yaml\")   "
   ]
  },
  {
   "cell_type": "code",
   "execution_count": null,
   "metadata": {},
   "outputs": [],
   "source": []
  }
 ],
 "metadata": {
  "kernelspec": {
   "display_name": "Python (yolov8_suland)",
   "language": "python",
   "name": "yolov8_suland"
  },
  "language_info": {
   "codemirror_mode": {
    "name": "ipython",
    "version": 3
   },
   "file_extension": ".py",
   "mimetype": "text/x-python",
   "name": "python",
   "nbconvert_exporter": "python",
   "pygments_lexer": "ipython3",
   "version": "3.13.2"
  }
 },
 "nbformat": 4,
 "nbformat_minor": 2
}
